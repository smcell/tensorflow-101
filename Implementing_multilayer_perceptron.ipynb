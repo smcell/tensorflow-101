{
 "metadata": {
  "name": ""
 },
 "nbformat": 3,
 "nbformat_minor": 0,
 "worksheets": [
  {
   "cells": [
    {
     "cell_type": "markdown",
     "metadata": {},
     "source": [
      "# Import packages"
     ]
    },
    {
     "cell_type": "markdown",
     "metadata": {},
     "source": [
      "# MULTILAYER PERCEPTRON"
     ]
    },
    {
     "cell_type": "code",
     "collapsed": false,
     "input": [
      "import numpy as np\n",
      "import matplotlib.pylab as plt\n",
      "import tensorflow as tf\n",
      "from tensorflow.examples.tutorials.mnist import input_data\n",
      "%matplotlib inline\n",
      "print (\"Package loaded\")"
     ],
     "language": "python",
     "metadata": {},
     "outputs": [
      {
       "output_type": "stream",
       "stream": "stdout",
       "text": [
        "Package loaded\n"
       ]
      }
     ],
     "prompt_number": 3
    },
    {
     "cell_type": "markdown",
     "metadata": {},
     "source": [
      "# GET MNIST"
     ]
    },
    {
     "cell_type": "code",
     "collapsed": false,
     "input": [
      "mnist = input_data.read_data_sets('data/', one_hot=True)\n",
      "print (\"MNIST loaded\")"
     ],
     "language": "python",
     "metadata": {},
     "outputs": [
      {
       "output_type": "stream",
       "stream": "stdout",
       "text": [
        "Extracting data/train-images-idx3-ubyte.gz\n",
        "Extracting"
       ]
      },
      {
       "output_type": "stream",
       "stream": "stdout",
       "text": [
        " data/train-labels-idx1-ubyte.gz\n",
        "Extracting data/t10k-images-idx3-ubyte.gz\n",
        "Extracting data/t10k-labels-idx1-ubyte.gz\n",
        "MNIST loaded"
       ]
      },
      {
       "output_type": "stream",
       "stream": "stdout",
       "text": [
        "\n"
       ]
      }
     ],
     "prompt_number": 6
    },
    {
     "cell_type": "markdown",
     "metadata": {},
     "source": [
      "# Tensor graph constructed"
     ]
    },
    {
     "cell_type": "markdown",
     "metadata": {},
     "source": [
      "# DEFINE NETWORK PARAMETERS"
     ]
    },
    {
     "cell_type": "code",
     "collapsed": false,
     "input": [
      "# NETWORK PARAMETERS\n",
      "n_input    = 784\n",
      "n_hidden_1 = 256\n",
      "n_hidden_2 = 128\n",
      "n_output   = 10\n",
      "\n",
      "# PLACEHOLDER\n",
      "x = tf.placeholder(\"float\", [None, n_input])\n",
      "y = tf.placeholder(\"float\",[None, n_output])\n",
      "\n",
      "# WEIGHTS\n",
      "weights = {\n",
      "           'h1': tf.Variable(tf.random_normal([n_input, n_hidden_1], stddev=0.1)),\n",
      "           'h2': tf.Variable(tf.random_normal([n_hidden_1, n_hidden_2], stddev=0.1)),\n",
      "           'out': tf.Variable(tf.random_normal([n_hidden_2, n_output], stddev=0.1))\n",
      "           }\n",
      "biases = {\n",
      "          'b1': tf.Variable(tf.random_normal([n_hidden_1])),\n",
      "          'b2': tf.Variable(tf.random_normal([n_hidden_2])),\n",
      "          'out': tf.Variable(tf.random_normal([n_output]))\n",
      "          }\n",
      "print (\"NETWORK PARAMETERS REDAY\")\n",
      "                                    "
     ],
     "language": "python",
     "metadata": {},
     "outputs": [
      {
       "output_type": "stream",
       "stream": "stdout",
       "text": [
        "NETWORK PARAMETERS REDAY\n"
       ]
      }
     ],
     "prompt_number": 22
    },
    {
     "cell_type": "markdown",
     "metadata": {},
     "source": [
      "# Functions"
     ]
    },
    {
     "cell_type": "markdown",
     "metadata": {},
     "source": [
      "# DEFINE NETWORK AS A FUNCTION"
     ]
    },
    {
     "cell_type": "code",
     "collapsed": false,
     "input": [
      "def mlp(_x, _weights, _biases):\n",
      "    layer_1 = tf.nn.sigmoid(tf.add(\n",
      "                                   tf.matmul(_x, _weights['h1']), _biases['b1']))\n",
      "    layer_2 = tf.nn.sigmoid(tf.add(\n",
      "                                   tf.matmul(layer_1, _weights['h2']), _biases['b2']))\n",
      "    out = tf.add(\n",
      "                 tf.matmul(layer_2, _weights['out']), _biases['out'])\n",
      "    return out\n",
      "print (\"NETWORK READY\")"
     ],
     "language": "python",
     "metadata": {},
     "outputs": [
      {
       "output_type": "stream",
       "stream": "stdout",
       "text": [
        "NETWORK READY\n"
       ]
      }
     ],
     "prompt_number": 25
    },
    {
     "cell_type": "markdown",
     "metadata": {},
     "source": [
      "# DEFINE FUNCTIONS"
     ]
    },
    {
     "cell_type": "code",
     "collapsed": false,
     "input": [
      "pred = mlp(x, weights, biases)\n",
      "# COST FUNCTION\n",
      "cost = tf.reduce_mean(\n",
      "                      tf.nn.softmax_cross_entropy_with_logits(pred, y))\n",
      "optm = tf.train.AdamOptimizer(0.01).minimize(cost)\n",
      "accr = tf.reduce_mean(tf.cast(\n",
      "                              tf.equal(tf.argmax(pred, 1), tf.argmax(y, 1)), \"float\"))\n",
      "init = tf.initialize_all_variables()\n",
      "print (\"FUNCTIONS READY\")"
     ],
     "language": "python",
     "metadata": {},
     "outputs": [
      {
       "output_type": "stream",
       "stream": "stdout",
       "text": [
        "FUNCTIONS READY\n"
       ]
      }
     ],
     "prompt_number": 27
    },
    {
     "cell_type": "markdown",
     "metadata": {},
     "source": [
      "# Run"
     ]
    },
    {
     "cell_type": "markdown",
     "metadata": {},
     "source": [
      "# TRAIN THE NETWORK"
     ]
    },
    {
     "cell_type": "code",
     "collapsed": false,
     "input": [
      "# HYPER-PARAMETERS\n",
      "epochs     = 10\n",
      "batch_size = 100\n",
      "disp_step  = 1\n",
      "\n",
      "sess = tf.Session()\n",
      "sess.run(init)\n",
      "\n",
      "for epoch in range(epochs):\n",
      "    total_batch = int(mnist.train.num_examples/batch_size)\n",
      "    total_cost = 0.\n",
      "    for i in range(total_batch):\n",
      "        # GET BATCH DATA\n",
      "        batch_xs, batch_ys = mnist.train.next_batch(batch_size)\n",
      "        # TRAIN\n",
      "        sess.run(optm, feed_dict={x: batch_xs, y: batch_ys})\n",
      "        total_cost += sess.run(cost, feed_dict={x: batch_xs, y: batch_ys})\n",
      "    # DISPLAY\n",
      "    if epoch % disp_step == 0:\n",
      "        print (\"Epoch %02d/%02d average cost is %.7f\"\n",
      "               % (epoch, epochs, total_cost/total_batch))\n",
      "        train_acc = sess.run(accr, feed_dict={x: batch_xs, y: batch_ys})\n",
      "        test_acc = sess.run(accr\n",
      "                            , feed_dict={x: mnist.test.images, y: mnist.test.labels})\n",
      "        print (\" Training accuracy is %.4f\" % (train_acc))\n",
      "        print (\" Test accuracy is %.4f\" % (test_acc))\n",
      "print (\"Done.\")"
     ],
     "language": "python",
     "metadata": {},
     "outputs": [
      {
       "output_type": "stream",
       "stream": "stdout",
       "text": [
        "Epoch 00/10 average cost is 0.2564837\n",
        " Training accuracy is 0.9700"
       ]
      },
      {
       "output_type": "stream",
       "stream": "stdout",
       "text": [
        "\n",
        " Test accuracy is 0.9513\n",
        "Epoch 01/10 average cost is 0.0772831"
       ]
      },
      {
       "output_type": "stream",
       "stream": "stdout",
       "text": [
        "\n",
        " Training accuracy is 0.9900"
       ]
      },
      {
       "output_type": "stream",
       "stream": "stdout",
       "text": [
        "\n",
        " Test accuracy is 0.9665\n",
        "Epoch 02/10 average cost is 0.0487271"
       ]
      },
      {
       "output_type": "stream",
       "stream": "stdout",
       "text": [
        "\n",
        " Training accuracy is 0.9800"
       ]
      },
      {
       "output_type": "stream",
       "stream": "stdout",
       "text": [
        "\n",
        " Test accuracy is 0.9674\n",
        "Epoch 03/10 average cost is 0.0353379"
       ]
      },
      {
       "output_type": "stream",
       "stream": "stdout",
       "text": [
        "\n",
        " Training accuracy is 0.9900"
       ]
      },
      {
       "output_type": "stream",
       "stream": "stdout",
       "text": [
        "\n",
        " Test accuracy is 0.9681\n",
        "Epoch 04/10 average cost is 0.0289290"
       ]
      },
      {
       "output_type": "stream",
       "stream": "stdout",
       "text": [
        "\n",
        " Training accuracy is 1.0000"
       ]
      },
      {
       "output_type": "stream",
       "stream": "stdout",
       "text": [
        "\n",
        " Test accuracy is 0.9755\n",
        "Epoch 05/10 average cost is 0.0233222"
       ]
      },
      {
       "output_type": "stream",
       "stream": "stdout",
       "text": [
        "\n",
        " Training accuracy is 0.9800"
       ]
      },
      {
       "output_type": "stream",
       "stream": "stdout",
       "text": [
        "\n",
        " Test accuracy is 0.9733\n",
        "Epoch 06/10 average cost is 0.0214365"
       ]
      },
      {
       "output_type": "stream",
       "stream": "stdout",
       "text": [
        "\n",
        " Training accuracy is 0.9900"
       ]
      },
      {
       "output_type": "stream",
       "stream": "stdout",
       "text": [
        "\n",
        " Test accuracy is 0.9746\n",
        "Epoch 07/10 average cost is 0.0200195"
       ]
      },
      {
       "output_type": "stream",
       "stream": "stdout",
       "text": [
        "\n",
        " Training accuracy is 0.9900"
       ]
      },
      {
       "output_type": "stream",
       "stream": "stdout",
       "text": [
        "\n",
        " Test accuracy is 0.9719\n",
        "Epoch 08/10 average cost is 0.0165695"
       ]
      },
      {
       "output_type": "stream",
       "stream": "stdout",
       "text": [
        "\n",
        " Training accuracy is 1.0000"
       ]
      },
      {
       "output_type": "stream",
       "stream": "stdout",
       "text": [
        "\n",
        " Test accuracy is 0.9762\n",
        "Epoch 09/10 average cost is 0.0164606"
       ]
      },
      {
       "output_type": "stream",
       "stream": "stdout",
       "text": [
        "\n",
        " Training accuracy is 1.0000"
       ]
      },
      {
       "output_type": "stream",
       "stream": "stdout",
       "text": [
        "\n",
        " Test accuracy is 0.9741\n",
        "Done.\n"
       ]
      }
     ],
     "prompt_number": 28
    },
    {
     "cell_type": "code",
     "collapsed": false,
     "input": [
      "\"\"\"\n",
      "- No drop out\n",
      "Epoch 00/10 average cost is 0.2564837\n",
      " Training accuracy is 0.9700\n",
      " Test accuracy is 0.9513\n",
      "Epoch 01/10 average cost is 0.0772831\n",
      " Training accuracy is 0.9900\n",
      " Test accuracy is 0.9665\n",
      "Epoch 02/10 average cost is 0.0487271\n",
      " Training accuracy is 0.9800\n",
      " Test accuracy is 0.9674\n",
      "Epoch 03/10 average cost is 0.0353379\n",
      " Training accuracy is 0.9900\n",
      " Test accuracy is 0.9681\n",
      "Epoch 04/10 average cost is 0.0289290\n",
      " Training accuracy is 1.0000\n",
      " Test accuracy is 0.9755\n",
      "Epoch 05/10 average cost is 0.0233222\n",
      " Training accuracy is 0.9800\n",
      " Test accuracy is 0.9733\n",
      "Epoch 06/10 average cost is 0.0214365\n",
      " Training accuracy is 0.9900\n",
      " Test accuracy is 0.9746\n",
      "Epoch 07/10 average cost is 0.0200195\n",
      " Training accuracy is 0.9900\n",
      " Test accuracy is 0.9719\n",
      "Epoch 08/10 average cost is 0.0165695\n",
      " Training accuracy is 1.0000\n",
      " Test accuracy is 0.9762\n",
      "Epoch 09/10 average cost is 0.0164606\n",
      " Training accuracy is 1.0000\n",
      " Test accuracy is 0.9741\n",
      "Done.\n",
      "\"\"\""
     ],
     "language": "python",
     "metadata": {},
     "outputs": []
    },
    {
     "cell_type": "code",
     "collapsed": false,
     "input": [
      "# Further works\n",
      "# Add a third hidden layer!\n",
      "# Add dropout layers\n",
      "# tf.nn.dropout(x, keep_prob, noise_shape=None, seed=None, name=None)"
     ],
     "language": "python",
     "metadata": {},
     "outputs": []
    }
   ],
   "metadata": {}
  }
 ]
}