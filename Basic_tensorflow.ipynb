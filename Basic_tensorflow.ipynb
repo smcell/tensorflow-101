{
 "metadata": {
  "name": ""
 },
 "nbformat": 3,
 "nbformat_minor": 0,
 "worksheets": [
  {
   "cells": [
    {
     "cell_type": "markdown",
     "metadata": {},
     "source": [
      "# Load packages"
     ]
    },
    {
     "cell_type": "code",
     "collapsed": false,
     "input": [
      "import numpy as np\n",
      "import tensorflow as tf\n",
      "print (\"Packages Loaded\")"
     ],
     "language": "python",
     "metadata": {},
     "outputs": [
      {
       "output_type": "stream",
       "stream": "stdout",
       "text": [
        "Packages Loaded\n"
       ]
      }
     ],
     "prompt_number": 1
    },
    {
     "cell_type": "markdown",
     "metadata": {},
     "source": [
      "# TF Constant"
     ]
    },
    {
     "cell_type": "code",
     "collapsed": false,
     "input": [
      "sess = tf.Session()\n",
      "hello = tf.constant(\"Hello, it's me.\")\n",
      "print (\"hello is %s\" % (hello))"
     ],
     "language": "python",
     "metadata": {},
     "outputs": [
      {
       "output_type": "stream",
       "stream": "stdout",
       "text": [
        "hello is Tensor(\"Const:0\", shape=(), dtype=string)\n"
       ]
      }
     ],
     "prompt_number": 2
    },
    {
     "cell_type": "markdown",
     "metadata": {},
     "source": [
      "# To make things happen,"
     ]
    },
    {
     "cell_type": "code",
     "collapsed": false,
     "input": [
      "hello_out = sess.run(hello)\n",
      "print (\"Type of 'hello': %s\" % (type(hello)))\n",
      "print (\"Type of 'hello_out': %s\" % (type(hello_out)))\n",
      "print (hello_out)"
     ],
     "language": "python",
     "metadata": {},
     "outputs": [
      {
       "output_type": "stream",
       "stream": "stdout",
       "text": [
        "Type of 'hello': <class 'tensorflow.python.framework.ops.Tensor'>\n",
        "Type of 'hello_out': <type 'str'>\n",
        "Hello, it's me.\n"
       ]
      }
     ],
     "prompt_number": 3
    },
    {
     "cell_type": "markdown",
     "metadata": {},
     "source": [
      "# Other types of constants"
     ]
    },
    {
     "cell_type": "code",
     "collapsed": false,
     "input": [
      "print (\"Constant types (numpy)\")\n",
      "a = tf.constant(1.5)\n",
      "b = tf.constant(2.5)\n",
      "print (\"'a': %s \\n    Type: %s\" % (a, type(a)))\n",
      "print (\"'b': %s \\n    Type: %s\" % (b, type(b)))\n",
      "a_out = sess.run(a)\n",
      "b_out = sess.run(b)\n",
      "print (\"Type of 'a_out' is %s\" % (type(a_out)))\n",
      "print (\"Type of 'b_out' is %s\" % (type(b_out)))\n",
      "print (\"a_out is %.lf b_out is %.lf a_out+b_out is %.lf\"\n",
      "       % (a_out, b_out, a_out+b_out))\n",
      "       "
     ],
     "language": "python",
     "metadata": {},
     "outputs": [
      {
       "output_type": "stream",
       "stream": "stdout",
       "text": [
        "Constant types (numpy)\n",
        "'a': Tensor(\"Const_1:0\", shape=(), dtype=float32) \n",
        "    Type: <class 'tensorflow.python.framework.ops.Tensor'>\n",
        "'b': Tensor(\"Const_2:0\", shape=(), dtype=float32) \n",
        "    Type: <class 'tensorflow.python.framework.ops.Tensor'>\n",
        "Type of 'a_out' is <type 'numpy.float32'>\n",
        "Type of 'b_out' is <type 'numpy.float32'>\n",
        "a_out is 2 b_out is 2 a_out+b_out is 4\n"
       ]
      }
     ],
     "prompt_number": 5
    },
    {
     "cell_type": "markdown",
     "metadata": {},
     "source": [
      "# Operators"
     ]
    },
    {
     "cell_type": "code",
     "collapsed": false,
     "input": [
      "print (\"Operators (tf.add, tf.mul)\")\n",
      "add = tf.add(a,b)\n",
      "print (\" 'add' is %s \\n type is %s\" % (add, type(add)))\n",
      "add_out = sess.run(add)\n",
      "print (\" 'add_out' is %s \\n type is %s\" % (add_out, type(add_out)))\n",
      "mul = tf.mul(a,b)\n",
      "print (\" 'mul' is %s \\n type is %s\" % (mul, type(mul)))\n",
      "mul_out = sess.run(mul)\n",
      "print (\" 'mul_out' is %s \\n type is %s\" % (mul_out, type(mul_out)))"
     ],
     "language": "python",
     "metadata": {},
     "outputs": [
      {
       "output_type": "stream",
       "stream": "stdout",
       "text": [
        "Operators (tf.add, tf.mul)\n",
        " 'add' is Tensor(\"Add:0\", shape=(), dtype=float32) \n",
        " type is <class 'tensorflow.python.framework.ops.Tensor'>\n",
        " 'add_out' is 4.0 \n",
        " type is <type 'numpy.float32'>\n",
        " 'mul' is Tensor(\"Mul:0\", shape=(), dtype=float32) \n",
        " type is <class 'tensorflow.python.framework.ops.Tensor'>\n",
        " 'mul_out' is 3.75 \n",
        " type is <type 'numpy.float32'>\n"
       ]
      }
     ],
     "prompt_number": 6
    },
    {
     "cell_type": "markdown",
     "metadata": {},
     "source": [
      "# Variable"
     ]
    },
    {
     "cell_type": "code",
     "collapsed": false,
     "input": [
      "Weight = tf.Variable(tf.random_normal([20, 10], stddev=0.5))\n",
      "Bias   = tf.Variable(tf.zeros([1, 10]))\n",
      "print (\" 'Weight': %s \\n Type is %s\" % (Weight, type(Weight)))\n",
      "print (\" 'Bias': %s \\n Type is %s\" % (Bias, type(Bias)))"
     ],
     "language": "python",
     "metadata": {},
     "outputs": [
      {
       "output_type": "stream",
       "stream": "stdout",
       "text": [
        " 'Weight': <tensorflow.python.ops.variables.Variable object at 0x7fd75cec0a50> \n",
        " Type is <class 'tensorflow.python.ops.variables.Variable'>\n",
        " 'Bias': <tensorflow.python.ops.variables.Variable object at 0x7fd7346bb8d0> \n",
        " Type is <class 'tensorflow.python.ops.variables.Variable'>\n"
       ]
      }
     ],
     "prompt_number": 8
    },
    {
     "cell_type": "markdown",
     "metadata": {},
     "source": [
      "# Placeholder"
     ]
    },
    {
     "cell_type": "code",
     "collapsed": false,
     "input": [
      "X = np.random.rand(1,20)\n",
      "Input = tf.placeholder(tf.float32, [None, 20])\n",
      "print (\" 'Input': %s \\n Type is %s\" % (Input, type(Input)))"
     ],
     "language": "python",
     "metadata": {},
     "outputs": [
      {
       "output_type": "stream",
       "stream": "stdout",
       "text": [
        " 'Input': Tensor(\"Placeholder_1:0\", shape=(?, 20), dtype=float32) \n",
        " Type is <class 'tensorflow.python.framework.ops.Tensor'>\n"
       ]
      }
     ],
     "prompt_number": 17
    },
    {
     "cell_type": "markdown",
     "metadata": {},
     "source": [
      "# Variable needs to be initialized"
     ]
    },
    {
     "cell_type": "code",
     "collapsed": false,
     "input": [
      "init = tf.initialize_all_variables()\n",
      "sess.run(init)"
     ],
     "language": "python",
     "metadata": {},
     "outputs": [],
     "prompt_number": 18
    },
    {
     "cell_type": "markdown",
     "metadata": {},
     "source": [
      "# Now we can get weights"
     ]
    },
    {
     "cell_type": "code",
     "collapsed": false,
     "input": [
      "w_out = sess.run(Weight)\n",
      "print (w_out)"
     ],
     "language": "python",
     "metadata": {},
     "outputs": [
      {
       "output_type": "stream",
       "stream": "stdout",
       "text": [
        "[[ 0.78783029 -0.46639669  0.91430753  0.68055832  0.48489252  0.551768\n",
        "   0.02070837  0.30429742 -0.79629767 -0.17846619]\n",
        " [ 0.41306353 -0.55245095 -0.83424151 -0.49125719  1.55646396 -0.10872409\n",
        "   0.24081676  0.79114586 -0.20844617 -0.87704742]\n",
        " [-0.22767825  0.46009761 -0.31240115  0.0908789   0.54754609 -0.5432412\n",
        "  -0.47994    -0.43264398 -0.3790594   0.06527714]\n",
        " [-0.31562054  0.10181993 -0.04044319 -0.03689002  0.58694935 -0.19804415\n",
        "   0.57809204  0.52187288  0.60790312 -0.4650209 ]\n",
        " [-0.76628679 -0.2409793  -0.097023   -0.54711896 -0.02994787  0.72364479\n",
        "  -0.39395136 -0.21289736 -0.67225623  1.0493021 ]\n",
        " [-0.60781151 -1.16600299  0.59326202  0.62792516  0.37702069 -0.0564361\n",
        "   0.66563559 -0.08988833 -0.23679423 -0.9345333 ]\n",
        " [ 0.2073732   0.5247643  -0.03989902  0.40970093  0.48373953 -0.6171391\n",
        "  -0.61158442  0.27245048  0.94098079  0.65175098]\n",
        " [ 0.27160072 -0.27210656 -0.40884835 -0.67527211 -0.47439596 -0.10114159\n",
        "  -1.19450712 -0.25356904 -0.02760238  0.46280745]\n",
        " [ 1.17697322  0.43327093  0.31518117  0.91562688 -0.64000684 -0.0160231\n",
        "   0.12096745  0.15518752  0.41052654 -0.14925413]\n",
        " [ 0.14028996 -0.05312696  0.47037575  0.38755044 -0.01748399 -0.12159554\n",
        "  -0.25623739  0.22936238 -0.22531626 -0.20374767]\n",
        " [-0.71852225  0.13157853 -0.90145022 -1.04795444 -0.23563126 -0.56085914\n",
        "  -0.01085898  0.64496177  0.21949859 -1.28407574]\n",
        " [-0.53835499  0.47312969  0.58235312 -0.77916515 -1.0306983   0.09286021\n",
        "   0.36292961 -0.3849045  -0.31493026  0.26758105]\n",
        " [ 0.13815296  0.76687342  0.41243631 -1.1073004  -0.45414069 -0.26957235\n",
        "   0.03915641  0.16229884  0.06104857 -0.18935393]\n",
        " [-0.31378791 -0.27708939 -0.55110675  0.47026423 -0.1061075  -0.41120389\n",
        "   0.48923302  0.01961372 -0.30465564 -1.41814518]\n",
        " [-0.21935064 -0.25901967 -0.95339674  0.70213711  0.55862814 -0.86724812\n",
        "  -0.65689605 -0.29029813  0.25247228 -1.09678125]\n",
        " [ 0.51836765 -0.47533804 -0.54759771  0.73579109 -0.19721143 -0.34460336\n",
        "   0.37991032  0.44704074  0.69945002 -0.4609088 ]\n",
        " [ 0.54753518 -0.47498655 -0.60637045  0.14013946  0.02035412 -0.07032335\n",
        "   0.42059642  0.37507105  0.68185633  0.27995241]\n",
        " [ 1.12746155  0.01796455  0.48625204  0.72730058 -0.70595092 -0.14269739\n",
        "  -0.84687531 -1.20969105  0.20181236  0.29698548]\n",
        " [-1.01279676  0.21570393  0.72494096 -0.21840799 -0.13701046 -0.77162635\n",
        "  -0.29713187  0.14823075  0.26439309  0.63357693]\n",
        " [ 0.41666305  0.35130218  1.08222318 -0.55480444  0.22962135  0.01327222\n",
        "  -0.15330271 -0.29443112 -0.1191296   0.41729185]]\n"
       ]
      }
     ],
     "prompt_number": 19
    },
    {
     "cell_type": "markdown",
     "metadata": {},
     "source": [
      "# Operation with Variables and Placeholders"
     ]
    },
    {
     "cell_type": "code",
     "collapsed": true,
     "input": [
      "oper = tf.matmul(Input, Weight) + Bias\n",
      "val  = sess.run(oper, feed_dict={Input:X})\n",
      "print (\" 'oper' is %s \\n Type is %s\" % (oper, type(oper)))\n",
      "print (\" 'val' is %s \\n Type is %s\" % (val, type(val)))"
     ],
     "language": "python",
     "metadata": {},
     "outputs": [
      {
       "output_type": "stream",
       "stream": "stdout",
       "text": [
        " 'oper' is Tensor(\"add_2:0\", shape=(?, 10), dtype=float32) \n",
        " Type is <class 'tensorflow.python.framework.ops.Tensor'>\n",
        " 'val' is [[ 1.10653567 -0.90660226 -0.7745989   0.01893646  0.51956105 -1.82933986\n",
        "  -0.4915207   0.64153731  0.98330992 -1.92848098]] \n",
        " Type is <type 'numpy.ndarray'>\n"
       ]
      }
     ],
     "prompt_number": 20
    },
    {
     "cell_type": "markdown",
     "metadata": {},
     "source": [
      "# Sesseion Run"
     ]
    },
    {
     "cell_type": "code",
     "collapsed": false,
     "input": [
      "x = tf.placeholder(tf.float32)\n",
      "y = tf.placeholder(tf.float32)\n",
      "add = tf.add(x, y)\n",
      "mul = tf.mul(x, y)\n",
      "add_out = sess.run(add, feed_dict={x:5.0, y:6.0})\n",
      "mul_out = sess.run(mul, feed_dict={x:5.0, y:6.0})\n",
      "print (\" 'add_out' is %s \\n Type is %s\" % (add_out, type(add_out)))\n",
      "print (\" 'mul_out' is %s \\n Type is %s\" % (mul_out, type(mul_out)))"
     ],
     "language": "python",
     "metadata": {},
     "outputs": [
      {
       "output_type": "stream",
       "stream": "stdout",
       "text": [
        " 'add_out' is 11.0 \n",
        " Type is <type 'numpy.float32'>\n",
        " 'mul_out' is 30.0 \n",
        " Type is <type 'numpy.float32'>\n"
       ]
      }
     ],
     "prompt_number": 21
    },
    {
     "cell_type": "code",
     "collapsed": false,
     "input": [],
     "language": "python",
     "metadata": {},
     "outputs": [],
     "prompt_number": 20
    },
    {
     "cell_type": "code",
     "collapsed": false,
     "input": [],
     "language": "python",
     "metadata": {},
     "outputs": [],
     "prompt_number": 20
    },
    {
     "cell_type": "code",
     "collapsed": false,
     "input": [],
     "language": "python",
     "metadata": {},
     "outputs": []
    }
   ],
   "metadata": {}
  }
 ]
}