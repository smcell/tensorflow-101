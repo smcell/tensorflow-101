{
 "metadata": {
  "name": ""
 },
 "nbformat": 3,
 "nbformat_minor": 0,
 "worksheets": [
  {
   "cells": [
    {
     "cell_type": "code",
     "collapsed": false,
     "input": [
      "import numpy as np\n",
      "import tensorflow as tf\n",
      "import matplotlib.pyplot as plt\n",
      "from tensorflow.examples.tutorials.mnist import input_data\n",
      "print (\"Packages Loaded\")"
     ],
     "language": "python",
     "metadata": {},
     "outputs": [
      {
       "output_type": "stream",
       "stream": "stdout",
       "text": [
        "Packages Loaded\n"
       ]
      }
     ],
     "prompt_number": 2
    },
    {
     "cell_type": "markdown",
     "metadata": {},
     "source": [
      "# Download and Extract MNIST Dataset"
     ]
    },
    {
     "cell_type": "code",
     "collapsed": false,
     "input": [
      "mnist      = input_data.read_data_sets('data/', one_hot=True)\n",
      "trainimg   = mnist.train.images\n",
      "trainlabel = mnist.train.labels\n",
      "testimg    = mnist.test.images\n",
      "testlabel  = mnist.test.labels\n",
      "print (\"MNIST loaded\")"
     ],
     "language": "python",
     "metadata": {},
     "outputs": [
      {
       "output_type": "stream",
       "stream": "stdout",
       "text": [
        "Extracting data/train-images-idx3-ubyte.gz\n",
        "Extracting"
       ]
      },
      {
       "output_type": "stream",
       "stream": "stdout",
       "text": [
        " data/train-labels-idx1-ubyte.gz\n",
        "Extracting data/t10k-images-idx3-ubyte.gz\n",
        "Extracting data/t10k-labels-idx1-ubyte.gz\n",
        "MNIST loaded"
       ]
      },
      {
       "output_type": "stream",
       "stream": "stdout",
       "text": [
        "\n"
       ]
      }
     ],
     "prompt_number": 4
    },
    {
     "cell_type": "markdown",
     "metadata": {},
     "source": [
      "# Create Tensor Graph for Logistic Regression"
     ]
    },
    {
     "cell_type": "code",
     "collapsed": false,
     "input": [
      "x = tf.placeholder(\"float\", [None, 784])\n",
      "y = tf.placeholder(\"float\", [None, 10])\n",
      "W = tf.Variable(tf.zeros([784, 10]))\n",
      "b = tf.Variable(tf.zeros([10]))\n",
      "# Our Model\n",
      "actv = tf.nn.softmax(tf.matmul(x, W)+b)\n",
      "# Cost Function\n",
      "cost = -tf.reduce_mean(y*tf.log(actv))\n",
      "# Optimizer\n",
      "optm = tf.train.GradientDescentOptimizer(0.01).minimize(cost)"
     ],
     "language": "python",
     "metadata": {},
     "outputs": [],
     "prompt_number": 6
    },
    {
     "cell_type": "markdown",
     "metadata": {},
     "source": [
      "# Prediction and Accuracy Operators"
     ]
    },
    {
     "cell_type": "code",
     "collapsed": false,
     "input": [
      "# Prediction\n",
      "pred = tf.equal(tf.arg_max(actv, 1), tf.arg_max(y, 1))\n",
      "# Accuracy\n",
      "accr = tf.reduce_mean(tf.cast(pred, \"float\"))\n",
      "# Initializer\n",
      "init = tf.initialize_all_variables()"
     ],
     "language": "python",
     "metadata": {},
     "outputs": [],
     "prompt_number": 8
    },
    {
     "cell_type": "markdown",
     "metadata": {},
     "source": [
      "# Train the Logistic Regression"
     ]
    },
    {
     "cell_type": "code",
     "collapsed": false,
     "input": [
      "training_epochs = 50\n",
      "batch_size      = 100\n",
      "display_step    = 5\n",
      "with tf.Session() as sess:\n",
      "    sess.run(init)\n",
      "    for epoch in range(training_epochs):\n",
      "        avg_cost = 0.\n",
      "        num_batch = int(mnist.train.num_examples/batch_size)\n",
      "        # FOR ALL MINI BATCHES\n",
      "        for i in range(num_batch):\n",
      "            batch_xs, batch_ys = mnist.train.next_batch(batch_size)\n",
      "            # RUN OPTIMIZER\n",
      "            sess.run(optm, feed_dict={x: batch_xs, y: batch_ys})\n",
      "            # COMPUTE AVERAGE COST\n",
      "            avg_cost += sess.run(cost, feed_dict=\n",
      "                                 {x: batch_xs, y: batch_ys})/num_batch\n",
      "        # DISPLAY\n",
      "        if epoch % display_step == 0:\n",
      "            train_acc = accr.eval({x: batch_xs, y: batch_ys})\n",
      "            print (\"Epoch: %03d/%03d\\n cost: %.9f\\n TRAIN ACC: %.3f\"\n",
      "                   % (epoch, training_epochs, avg_cost, train_acc))\n",
      "            # TEST ACCURACY\n",
      "            print (\" TEST ACC:\", accr.eval({x: mnist.test.images\n",
      "                                            , y: mnist.test.labels}))\n",
      "        print (\"Optimization Finished!\")"
     ],
     "language": "python",
     "metadata": {},
     "outputs": [
      {
       "output_type": "stream",
       "stream": "stdout",
       "text": [
        "Epoch: 000/050\n",
        " cost: 0.204525086\n",
        " TRAIN ACC: 0.680\n",
        "(' TEST ACC:', 0.76120001)\n",
        "Optimization Finished!\n",
        "Optimization Finished!"
       ]
      },
      {
       "output_type": "stream",
       "stream": "stdout",
       "text": [
        "\n",
        "Optimization Finished!"
       ]
      },
      {
       "output_type": "stream",
       "stream": "stdout",
       "text": [
        "\n",
        "Optimization Finished!"
       ]
      },
      {
       "output_type": "stream",
       "stream": "stdout",
       "text": [
        "\n",
        "Optimization Finished!"
       ]
      },
      {
       "output_type": "stream",
       "stream": "stdout",
       "text": [
        "\n",
        "Epoch: 005/050\n",
        " cost: 0.099838951\n",
        " TRAIN ACC: 0.800"
       ]
      },
      {
       "output_type": "stream",
       "stream": "stdout",
       "text": [
        "\n",
        "(' TEST ACC:', 0.83740002)\n",
        "Optimization Finished!\n",
        "Optimization Finished!"
       ]
      },
      {
       "output_type": "stream",
       "stream": "stdout",
       "text": [
        "\n",
        "Optimization Finished!"
       ]
      },
      {
       "output_type": "stream",
       "stream": "stdout",
       "text": [
        "\n",
        "Optimization Finished!"
       ]
      },
      {
       "output_type": "stream",
       "stream": "stdout",
       "text": [
        "\n",
        "Optimization Finished!"
       ]
      },
      {
       "output_type": "stream",
       "stream": "stdout",
       "text": [
        "\n",
        "Epoch: 010/050\n",
        " cost: 0.075515211\n",
        " TRAIN ACC: 0.870"
       ]
      },
      {
       "output_type": "stream",
       "stream": "stdout",
       "text": [
        "\n",
        "(' TEST ACC:', 0.85720003)\n",
        "Optimization Finished!\n",
        "Optimization Finished!"
       ]
      },
      {
       "output_type": "stream",
       "stream": "stdout",
       "text": [
        "\n",
        "Optimization Finished!"
       ]
      },
      {
       "output_type": "stream",
       "stream": "stdout",
       "text": [
        "\n",
        "Optimization Finished!"
       ]
      },
      {
       "output_type": "stream",
       "stream": "stdout",
       "text": [
        "\n",
        "Optimization Finished!"
       ]
      },
      {
       "output_type": "stream",
       "stream": "stdout",
       "text": [
        "\n",
        "Epoch: 015/050\n",
        " cost: 0.064858603\n",
        " TRAIN ACC: 0.880"
       ]
      },
      {
       "output_type": "stream",
       "stream": "stdout",
       "text": [
        "\n",
        "(' TEST ACC:', 0.86690003)\n",
        "Optimization Finished!\n",
        "Optimization Finished!"
       ]
      },
      {
       "output_type": "stream",
       "stream": "stdout",
       "text": [
        "\n",
        "Optimization Finished!"
       ]
      },
      {
       "output_type": "stream",
       "stream": "stdout",
       "text": [
        "\n",
        "Optimization Finished!"
       ]
      },
      {
       "output_type": "stream",
       "stream": "stdout",
       "text": [
        "\n",
        "Optimization Finished!"
       ]
      },
      {
       "output_type": "stream",
       "stream": "stdout",
       "text": [
        "\n",
        "Epoch: 020/050\n",
        " cost: 0.058726184\n",
        " TRAIN ACC: 0.910"
       ]
      },
      {
       "output_type": "stream",
       "stream": "stdout",
       "text": [
        "\n",
        "(' TEST ACC:', 0.875)\n",
        "Optimization Finished!\n",
        "Optimization Finished!"
       ]
      },
      {
       "output_type": "stream",
       "stream": "stdout",
       "text": [
        "\n",
        "Optimization Finished!"
       ]
      },
      {
       "output_type": "stream",
       "stream": "stdout",
       "text": [
        "\n",
        "Optimization Finished!"
       ]
      },
      {
       "output_type": "stream",
       "stream": "stdout",
       "text": [
        "\n",
        "Optimization Finished!"
       ]
      },
      {
       "output_type": "stream",
       "stream": "stdout",
       "text": [
        "\n",
        "Epoch: 025/050\n",
        " cost: 0.054667978\n",
        " TRAIN ACC: 0.850"
       ]
      },
      {
       "output_type": "stream",
       "stream": "stdout",
       "text": [
        "\n",
        "(' TEST ACC:', 0.87919998)\n",
        "Optimization Finished!\n",
        "Optimization Finished!"
       ]
      },
      {
       "output_type": "stream",
       "stream": "stdout",
       "text": [
        "\n",
        "Optimization Finished!"
       ]
      },
      {
       "output_type": "stream",
       "stream": "stdout",
       "text": [
        "\n",
        "Optimization Finished!"
       ]
      },
      {
       "output_type": "stream",
       "stream": "stdout",
       "text": [
        "\n",
        "Optimization Finished!"
       ]
      },
      {
       "output_type": "stream",
       "stream": "stdout",
       "text": [
        "\n",
        "Epoch: 030/050\n",
        " cost: 0.051746677\n",
        " TRAIN ACC: 0.900"
       ]
      },
      {
       "output_type": "stream",
       "stream": "stdout",
       "text": [
        "\n",
        "(' TEST ACC:', 0.88260001)\n",
        "Optimization Finished!\n",
        "Optimization Finished!"
       ]
      },
      {
       "output_type": "stream",
       "stream": "stdout",
       "text": [
        "\n",
        "Optimization Finished!"
       ]
      },
      {
       "output_type": "stream",
       "stream": "stdout",
       "text": [
        "\n",
        "Optimization Finished!"
       ]
      },
      {
       "output_type": "stream",
       "stream": "stdout",
       "text": [
        "\n",
        "Optimization Finished!"
       ]
      },
      {
       "output_type": "stream",
       "stream": "stdout",
       "text": [
        "\n",
        "Epoch: 035/050\n",
        " cost: 0.049520825\n",
        " TRAIN ACC: 0.840"
       ]
      },
      {
       "output_type": "stream",
       "stream": "stdout",
       "text": [
        "\n",
        "(' TEST ACC:', 0.88510001)\n",
        "Optimization Finished!\n",
        "Optimization Finished!"
       ]
      },
      {
       "output_type": "stream",
       "stream": "stdout",
       "text": [
        "\n",
        "Optimization Finished!"
       ]
      },
      {
       "output_type": "stream",
       "stream": "stdout",
       "text": [
        "\n",
        "Optimization Finished!"
       ]
      },
      {
       "output_type": "stream",
       "stream": "stdout",
       "text": [
        "\n",
        "Optimization Finished!"
       ]
      },
      {
       "output_type": "stream",
       "stream": "stdout",
       "text": [
        "\n",
        "Epoch: 040/050\n",
        " cost: 0.047755334\n",
        " TRAIN ACC: 0.900"
       ]
      },
      {
       "output_type": "stream",
       "stream": "stdout",
       "text": [
        "\n",
        "(' TEST ACC:', 0.88739997)\n",
        "Optimization Finished!\n",
        "Optimization Finished!"
       ]
      },
      {
       "output_type": "stream",
       "stream": "stdout",
       "text": [
        "\n",
        "Optimization Finished!"
       ]
      },
      {
       "output_type": "stream",
       "stream": "stdout",
       "text": [
        "\n",
        "Optimization Finished!"
       ]
      },
      {
       "output_type": "stream",
       "stream": "stdout",
       "text": [
        "\n",
        "Optimization Finished!"
       ]
      },
      {
       "output_type": "stream",
       "stream": "stdout",
       "text": [
        "\n",
        "Epoch: 045/050\n",
        " cost: 0.046312821\n",
        " TRAIN ACC: 0.920"
       ]
      },
      {
       "output_type": "stream",
       "stream": "stdout",
       "text": [
        "\n",
        "(' TEST ACC:', 0.88980001)\n",
        "Optimization Finished!\n",
        "Optimization Finished!"
       ]
      },
      {
       "output_type": "stream",
       "stream": "stdout",
       "text": [
        "\n",
        "Optimization Finished!"
       ]
      },
      {
       "output_type": "stream",
       "stream": "stdout",
       "text": [
        "\n",
        "Optimization Finished!"
       ]
      },
      {
       "output_type": "stream",
       "stream": "stdout",
       "text": [
        "\n",
        "Optimization Finished!"
       ]
      },
      {
       "output_type": "stream",
       "stream": "stdout",
       "text": [
        "\n"
       ]
      }
     ],
     "prompt_number": 9
    },
    {
     "cell_type": "code",
     "collapsed": false,
     "input": [],
     "language": "python",
     "metadata": {},
     "outputs": []
    }
   ],
   "metadata": {}
  }
 ]
}