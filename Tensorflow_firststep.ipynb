{
 "metadata": {
  "name": ""
 },
 "nbformat": 3,
 "nbformat_minor": 0,
 "worksheets": [
  {
   "cells": [
    {
     "cell_type": "markdown",
     "metadata": {},
     "source": [
      "#\ud150\uc11c\ud50c\ub85c \uccab\uac78\uc74c - \ud55c\ube5b\ubbf8\ub514\uc5b4"
     ]
    },
    {
     "cell_type": "markdown",
     "metadata": {},
     "source": [
      "# First tensorflow mode p40"
     ]
    },
    {
     "cell_type": "code",
     "collapsed": false,
     "input": [
      "import tensorflow as tf\n",
      "a = tf.placeholder(\"float\")\n",
      "b = tf.placeholder(\"float\")\n",
      "\n",
      "y = tf.mul(a, b)\n",
      "\n",
      "sess = tf.Session ()\n",
      "\n",
      "print sess.run(y, feed_dict = {a: 3, b: 3})"
     ],
     "language": "python",
     "metadata": {},
     "outputs": [
      {
       "output_type": "stream",
       "stream": "stdout",
       "text": [
        "9.0\n"
       ]
      }
     ],
     "prompt_number": 4
    },
    {
     "cell_type": "markdown",
     "metadata": {},
     "source": [
      "# 2.1 Model for the relationship of variables p49"
     ]
    },
    {
     "cell_type": "code",
     "collapsed": false,
     "input": [
      "import numpy as np\n",
      "\n",
      "num_points = 1000\n",
      "vectors_set = []\n",
      "\n",
      "for i in xrange(num_points):\n",
      "    x1 = np.random.normal(0.0, 0.55)\n",
      "    y1 = x1 * 0.1 + 0.3 + np.random.normal(0.0, 0.03)\n",
      "    vectors_set.append([x1, y1])\n",
      "    \n",
      "x_data = [v[0] for v in vectors_set]\n",
      "y_data = [v[1] for v in vectors_set]\n",
      "\n",
      "print \"SET Data\""
     ],
     "language": "python",
     "metadata": {},
     "outputs": [
      {
       "output_type": "stream",
       "stream": "stdout",
       "text": [
        "SET Data\n"
       ]
      }
     ],
     "prompt_number": 32
    },
    {
     "cell_type": "code",
     "collapsed": false,
     "input": [
      "import matplotlib.pyplot as plt\n",
      "\n",
      "plt.plot(x_data, y_data, 'ro')\n",
      "plt.legend()\n",
      "plt.show()"
     ],
     "language": "python",
     "metadata": {},
     "outputs": [],
     "prompt_number": 33
    },
    {
     "cell_type": "markdown",
     "metadata": {},
     "source": [
      "# 2.2 Cost function and Gradient descent algorithm p51"
     ]
    },
    {
     "cell_type": "code",
     "collapsed": false,
     "input": [
      "import tensorflow as tf\n",
      "\n",
      "W = tf.Variable(tf.random_uniform([1], -1.0, 1.0))\n",
      "b = tf.Variable(tf.zeros([1]))\n",
      "y = W * x_data + b\n",
      "\n",
      "print \"Ready three variables\""
     ],
     "language": "python",
     "metadata": {},
     "outputs": [
      {
       "output_type": "stream",
       "stream": "stdout",
       "text": [
        "Ready three variables\n"
       ]
      }
     ],
     "prompt_number": 34
    },
    {
     "cell_type": "code",
     "collapsed": false,
     "input": [
      "loss = tf.reduce_mean(tf.square(y - y_data))    "
     ],
     "language": "python",
     "metadata": {},
     "outputs": [],
     "prompt_number": 35
    },
    {
     "cell_type": "code",
     "collapsed": false,
     "input": [
      "optimizer = tf.train.GradientDescentOptimizer(0.5)\n",
      "train = optimizer.minimize(loss)"
     ],
     "language": "python",
     "metadata": {},
     "outputs": [],
     "prompt_number": 36
    },
    {
     "cell_type": "code",
     "collapsed": false,
     "input": [
      "init = tf.initialize_all_variables()\n",
      "\n",
      "sess = tf.Session()\n",
      "sess.run(init)\n",
      "\n",
      "print \"Ready for initilization\""
     ],
     "language": "python",
     "metadata": {},
     "outputs": [
      {
       "output_type": "stream",
       "stream": "stdout",
       "text": [
        "Ready for initilization\n"
       ]
      }
     ],
     "prompt_number": 37
    },
    {
     "cell_type": "code",
     "collapsed": false,
     "input": [
      "for step in xrange(8):\n",
      "    sess.run(train)\n",
      "    print step, sess.run(W), sess.run(b)\n",
      "    print(step, sess.run(loss))\n",
      "\n",
      "    plt.plot(x_data, y_data, 'ro')\n",
      "    plt.plot(x_data, sess.run(W) * x_data + sess.run(b))\n",
      "    plt.xlabel('x')\n",
      "    plt.xlim(-2,2)\n",
      "    plt.xlim(0.1, 0.6)\n",
      "    plt.ylabel('y')\n",
      "    plt.legend()\n",
      "    plt.show()"
     ],
     "language": "python",
     "metadata": {},
     "outputs": [
      {
       "output_type": "stream",
       "stream": "stdout",
       "text": [
        "0 [ 0.5241791] [ 0.31042433]\n",
        "(0, 0.058201432)\n",
        "1"
       ]
      },
      {
       "output_type": "stream",
       "stream": "stdout",
       "text": [
        " [ 0.38875157] [ 0.30708975]\n",
        "(1, 0.027371984)\n",
        "2"
       ]
      },
      {
       "output_type": "stream",
       "stream": "stdout",
       "text": [
        " [ 0.29666957] [ 0.30490461]\n",
        "(2, 0.013119753)\n",
        "3"
       ]
      },
      {
       "output_type": "stream",
       "stream": "stdout",
       "text": [
        " [ 0.23406106] [ 0.30341884]\n",
        "(3, 0.006531049)\n",
        "4"
       ]
      },
      {
       "output_type": "stream",
       "stream": "stdout",
       "text": [
        " [ 0.19149221] [ 0.30240867]\n",
        "(4, 0.0034851399)\n",
        "5"
       ]
      },
      {
       "output_type": "stream",
       "stream": "stdout",
       "text": [
        " [ 0.16254875] [ 0.30172181]\n",
        "(5, 0.0020770358)\n",
        "6"
       ]
      },
      {
       "output_type": "stream",
       "stream": "stdout",
       "text": [
        " [ 0.14286947] [ 0.30125481]\n",
        "(6, 0.0014260802)\n",
        "7"
       ]
      },
      {
       "output_type": "stream",
       "stream": "stdout",
       "text": [
        " [ 0.12948911] [ 0.30093727]\n",
        "(7, 0.0011251476)\n"
       ]
      }
     ],
     "prompt_number": 38
    },
    {
     "cell_type": "markdown",
     "metadata": {},
     "source": [
      "# 3.1 Tensor: Basic data structure"
     ]
    },
    {
     "cell_type": "code",
     "collapsed": false,
     "input": [
      "import numpy as np\n",
      "\n",
      "num_points = 2000\n",
      "vectors_set = []"
     ],
     "language": "python",
     "metadata": {},
     "outputs": [],
     "prompt_number": 3
    },
    {
     "cell_type": "code",
     "collapsed": false,
     "input": [
      "for i in xrange(num_points):\n",
      "    if np.random.random() > 0.5:\n",
      "        vectors_set.append([np.random.normal(0.0, 0.9),\n",
      "                            np.random.normal(0.0, 0.9)])\n",
      "    else:\n",
      "        vectors_set.append([np.random.normal(3.0, 0.5),\n",
      "                            np.random.normal(1.0, 0.5)])"
     ],
     "language": "python",
     "metadata": {},
     "outputs": [],
     "prompt_number": 4
    },
    {
     "cell_type": "code",
     "collapsed": false,
     "input": [
      "import matplotlib.pyplot as plt\n",
      "import pandas as pd\n",
      "import seaborn as sns\n",
      "# $pip install seaborn \uc2e4\ud589\ud560 \uac83\n",
      "\n",
      "df = pd.DataFrame({\"x\": [v[0] for v in vectors_set],\n",
      "                   \"y\": [v[1] for v in vectors_set]})\n",
      "sns.lmplot(\"x\", \"y\", data = df, fit_reg=False, size = 6)\n",
      "plt.show()"
     ],
     "language": "python",
     "metadata": {},
     "outputs": [
      {
       "output_type": "stream",
       "stream": "stderr",
       "text": [
        "/usr/lib/pymodules/python2.7/matplotlib/collections.py:548: FutureWarning: elementwise comparison failed; returning scalar instead, but in the future will perform elementwise comparison\n",
        "  if self._edgecolors == 'face':\n"
       ]
      }
     ],
     "prompt_number": 5
    },
    {
     "cell_type": "markdown",
     "metadata": {},
     "source": [
      "# K-means clustering p76"
     ]
    },
    {
     "cell_type": "code",
     "collapsed": false,
     "input": [
      "import tensorflow as tf\n",
      "\n",
      "vectors = tf.constant(vectors_set)\n",
      "\n",
      "k = 4\n",
      "\n",
      "centroides = tf.Variable(tf.slice(tf.random_shuffle(vectors),[0,0],[k,-1]))\n",
      "\n",
      "expanded_vectors = tf.expand_dims(vectors, 0)\n",
      "expanded_centroides = tf.expand_dims(centroides, 1)\n",
      "\n",
      "assignments = tf.argmin(tf.reduce_sum(tf.square(tf.sub(expanded_vectors, expanded_centroides)), 2), 0)\n",
      "\n",
      "means = tf.concat(0, [tf.reduce_mean(tf.gather(vectors,\n",
      "                                               tf.reshape(tf.where(tf.equal(assignments, c)), [1,-1])),\n",
      "                                               reduction_indices=[1]) for c in xrange(k)])\n",
      "                      \n",
      "update_centroides = tf.assign(centroides, means)\n",
      "\n",
      "init_op = tf.initialize_all_variables()\n",
      "\n",
      "sess = tf.Session()\n",
      "sess.run(init_op)\n",
      "\n",
      "for step in xrange(100):\n",
      "    _, centroid_values, assignment_values = sess.run([update_centroides, centroides, assignments])\n",
      "    \n",
      "print \"Ready for K-means clustering module\""
     ],
     "language": "python",
     "metadata": {},
     "outputs": [
      {
       "output_type": "stream",
       "stream": "stdout",
       "text": [
        "Ready for K-means clustering module\n"
       ]
      }
     ],
     "prompt_number": 9
    },
    {
     "cell_type": "code",
     "collapsed": false,
     "input": [
      "data = {\"x\": [], \"y\": [], \"cluster\": []}\n",
      "\n",
      "for i in xrange(len(assignment_values)):\n",
      "    data[\"x\"].append(vectors_set[i][0])\n",
      "    data[\"y\"].append(vectors_set[i][1])\n",
      "    data[\"cluster\"].append(assignment_values[i])\n",
      "    \n",
      "df = pd.DataFrame(data)\n",
      "sns.lmplot(\"x\", \"y\", data=df, fit_reg=False, size=6, hue=\"cluster\", legend=False)\n",
      "plt.show()"
     ],
     "language": "python",
     "metadata": {},
     "outputs": [],
     "prompt_number": 11
    },
    {
     "cell_type": "markdown",
     "metadata": {},
     "source": [
      "# 3.4 New Group p78"
     ]
    },
    {
     "cell_type": "code",
     "collapsed": false,
     "input": [
      "# \ubaa8\ub4e0 \ub370\uc774\ud130\ub97c \ud150\uc11c\ub85c \uc62e\uae30\uae30. \ubb34\uc791\uc704\ub85c \uc0dd\uc131\ud55c \ub370\uc774\ud130\ub97c \uac00\uc9c0\uace0 \uc0c1\uc218 \ud150\uc11c\ub97c \ub9cc\ub4ec.\n",
      "vectors = tf.constant(vectors_set)\n"
     ],
     "language": "python",
     "metadata": {},
     "outputs": [],
     "prompt_number": 12
    },
    {
     "cell_type": "code",
     "collapsed": false,
     "input": [
      "# \uc785\ub825 \ub370\uc774\ud130\uc5d0\uc11c \ubb34\uc791\uc704\ub85c K\uac1c\uc758 \ub370\uc774\ud130\ub97c \uc120\ud0dd\n",
      "# \ucd08\uae30 \uc911\uc2ec\uc744 \uc9c0\uc815 - \ucd08\uae30 \ub2e8\uacc4(0 \ub2e8\uacc4)\uc784\n",
      "k = 4\n",
      "centroides = tf.Variable(tf.slice(tf.random_shuffle(vectors),[0, 0],[k, -1]))"
     ],
     "language": "python",
     "metadata": {},
     "outputs": [],
     "prompt_number": 14
    },
    {
     "cell_type": "code",
     "collapsed": false,
     "input": [
      "# K \uac1c\uc758 \ub370\uc774\ud130 \ud3ec\uc778\ud2b8\ub294 2D \ud150\uc11c\ub85c \uc800\uc7a5\ub82c\n",
      "# vectors \ub294 D0 \ucc28\uc6d0\uc740 \ud06c\uae30\uac00 2000, D1 \ucc28\uc6d0\uc740 \ud06c\uae30\uac00 2 (x, y \uc88c\ud45c)\n",
      "vectors.get_shape()"
     ],
     "language": "python",
     "metadata": {},
     "outputs": [
      {
       "metadata": {},
       "output_type": "pyout",
       "prompt_number": 15,
       "text": [
        "TensorShape([Dimension(2000), Dimension(2)])"
       ]
      }
     ],
     "prompt_number": 15
    },
    {
     "cell_type": "code",
     "collapsed": false,
     "input": [
      "# \uc911\uc2ec\uc810 - D0 \ucc28\uc6d0\uc758 \ud06c\uae30\uac00 4, D1 \ucc28\uc6d0\uc740 vectors\uc640 \ub3d9\uc77c\ud558\uac8c 2\uc778 \ud589\ub82c\n",
      "centroides.get_shape()"
     ],
     "language": "python",
     "metadata": {},
     "outputs": [
      {
       "metadata": {},
       "output_type": "pyout",
       "prompt_number": 17,
       "text": [
        "TensorShape([Dimension(4), Dimension(2)])"
       ]
      }
     ],
     "prompt_number": 17
    },
    {
     "cell_type": "code",
     "collapsed": false,
     "input": [
      "# \uc720\ud074\ub9ac\ub4dc \uc81c\uacf1\uac70\ub9ac Squared Euclidena distance \ub97c \uad6c\ud574 \uac00\uc7a5 \uac00\uae4c\uc6b4 \uc911\uc2ec\uc744 \uacc4\uc0b0\n",
      "# tf.sub(vectors, centroides) \ub85c \uad6c\ud568. 1\ucc28\uc6d0\uc758 \ud06c\uae30\uac00 \ub2e4\ub974\ub2e4\n",
      "# \ub450 \ud150\uc11c\ub97c 2\ucc28\uc6d0\uc5d0\uc11c 3\ucc28\uc6d0\uc73c\ub85c \ub9cc\ub4e4\uc5b4 \ube84\uc148\uc744 \ud560 \uc218 \uc788\ub3c4\ub85d \ud06c\uae30\ub97c \ub9de\ucd98\ub2e4.\n",
      "\n",
      "expanded_vectors = tf.expand_dims(vectors, 0)\n",
      "expanded_centroides = tf.expand_dims(centroides, 1)"
     ],
     "language": "python",
     "metadata": {},
     "outputs": [],
     "prompt_number": 18
    },
    {
     "cell_type": "code",
     "collapsed": false,
     "input": [
      "expanded_vectors.get_shape()"
     ],
     "language": "python",
     "metadata": {},
     "outputs": [
      {
       "metadata": {},
       "output_type": "pyout",
       "prompt_number": 20,
       "text": [
        "TensorShape([Dimension(1), Dimension(2000), Dimension(2)])"
       ]
      }
     ],
     "prompt_number": 20
    },
    {
     "cell_type": "code",
     "collapsed": false,
     "input": [
      "expanded_centroides.get_shape()"
     ],
     "language": "python",
     "metadata": {},
     "outputs": [
      {
       "metadata": {},
       "output_type": "pyout",
       "prompt_number": 21,
       "text": [
        "TensorShape([Dimension(4), Dimension(1), Dimension(2)])"
       ]
      }
     ],
     "prompt_number": 21
    },
    {
     "cell_type": "code",
     "collapsed": false,
     "input": [
      "assignments = tf.argmin(tf.reduce_sum(tf.square(tf.sub(expanded_vectors, expanded_centroides)), 2), 0)"
     ],
     "language": "python",
     "metadata": {},
     "outputs": [],
     "prompt_number": 22
    },
    {
     "cell_type": "code",
     "collapsed": false,
     "input": [
      "\n",
      "# \uc704\uc758 \uc218\uc2dd\uc744 \uc544\ub798\uc640 \uac19\uc774 \ud480\uc5b4\uc4f8\uc218 \uc788\ub2e4\n",
      "diff = tf.sub(expanded_vectors, expanded_centroides)\n",
      "sqr = tf.square(diff)\n",
      "distances = tf.reduce_sum(sqr, 2)\n",
      "assigments = tf.argmin(distances, 0)\n"
     ],
     "language": "python",
     "metadata": {},
     "outputs": [],
     "prompt_number": 29
    },
    {
     "cell_type": "code",
     "collapsed": false,
     "input": [
      "diff.get_shape()\n"
     ],
     "language": "python",
     "metadata": {},
     "outputs": [
      {
       "metadata": {},
       "output_type": "pyout",
       "prompt_number": 30,
       "text": [
        "TensorShape([Dimension(4), Dimension(2000), Dimension(2)])"
       ]
      }
     ],
     "prompt_number": 30
    },
    {
     "cell_type": "code",
     "collapsed": false,
     "input": [
      "sqr.get_shape()\n"
     ],
     "language": "python",
     "metadata": {},
     "outputs": [
      {
       "metadata": {},
       "output_type": "pyout",
       "prompt_number": 31,
       "text": [
        "TensorShape([Dimension(4), Dimension(2000), Dimension(2)])"
       ]
      }
     ],
     "prompt_number": 31
    },
    {
     "cell_type": "code",
     "collapsed": false,
     "input": [
      "distances.get_shape()\n"
     ],
     "language": "python",
     "metadata": {},
     "outputs": [
      {
       "metadata": {},
       "output_type": "pyout",
       "prompt_number": 32,
       "text": [
        "TensorShape([Dimension(4), Dimension(2000)])"
       ]
      }
     ],
     "prompt_number": 32
    },
    {
     "cell_type": "code",
     "collapsed": false,
     "input": [
      "assigment.get_shape()"
     ],
     "language": "python",
     "metadata": {},
     "outputs": [
      {
       "metadata": {},
       "output_type": "pyout",
       "prompt_number": 33,
       "text": [
        "TensorShape([Dimension(2000)])"
       ]
      }
     ],
     "prompt_number": 33
    },
    {
     "cell_type": "code",
     "collapsed": false,
     "input": [
      "distances = tf.reduce_sum(tf.square(tf.sub(expanded_vectors, \n",
      "                                           expanded_centroides)), 2)\n",
      "assigments = tf.argmin(distances, 0)"
     ],
     "language": "python",
     "metadata": {},
     "outputs": [],
     "prompt_number": 34
    },
    {
     "cell_type": "markdown",
     "metadata": {},
     "source": [
      "# 3.5 Calculation of New Centroides"
     ]
    },
    {
     "cell_type": "code",
     "collapsed": false,
     "input": [
      "means = tf.concat(0, [tf.reduce_mean(tf.gather(vectors,\n",
      "        tf.reshape(tf.where(tf.equal(assigments, c)), [1,-1])),\n",
      "        reduction_indices=[1]) for c in xrange(k)])"
     ],
     "language": "python",
     "metadata": {},
     "outputs": [],
     "prompt_number": 35
    },
    {
     "cell_type": "markdown",
     "metadata": {},
     "source": [
      "# 3.6 Draw Graph"
     ]
    },
    {
     "cell_type": "code",
     "collapsed": false,
     "input": [
      "update_centroides = tf.assign(centroides, means)\n",
      "\n",
      "init_op = tf.initialize_all_variables()\n",
      "\n",
      "sess = tf.S#ession()\n",
      "sess.run(init_op)\n",
      "\n",
      "for step in xrange(100):\n",
      "    _, centroid_values, assignment_values = sess.run([update_centroides, centroides, assigments])"
     ],
     "language": "python",
     "metadata": {},
     "outputs": [],
     "prompt_number": 37
    },
    {
     "cell_type": "code",
     "collapsed": false,
     "input": [
      "print centroid_values"
     ],
     "language": "python",
     "metadata": {},
     "outputs": [
      {
       "output_type": "stream",
       "stream": "stdout",
       "text": [
        "[[ 0.43589148  0.72167027]\n",
        " [ 2.98862934  0.99339008]\n",
        " [-1.06940138  0.15382312]\n",
        " [ 0.19231409 -0.9065581 ]]\n"
       ]
      }
     ],
     "prompt_number": 38
    },
    {
     "cell_type": "markdown",
     "metadata": {},
     "source": [
      "# 4\uc7a5 \ub2e8\uc77c \uacc4\uce35 \uc2e0\uacbd\ub9dd"
     ]
    },
    {
     "cell_type": "markdown",
     "metadata": {},
     "source": [
      "# MNIST \ub370\uc774\ud130\uc14b (Mixed national institue of standards and technology database)"
     ]
    },
    {
     "cell_type": "code",
     "collapsed": false,
     "input": [
      "from tensorflow.examples.tutorials.mnist import input_data\n",
      "mnist = input_data.read_data_sets(\"MNIST_data/\", one_hot=True)"
     ],
     "language": "python",
     "metadata": {},
     "outputs": [
      {
       "output_type": "stream",
       "stream": "stdout",
       "text": [
        "Successfully downloaded train-images-idx3-ubyte.gz 9912422 bytes.\n",
        "Extracting MNIST_data/train-images-idx3-ubyte.gz\n",
        "Successfully downloaded"
       ]
      },
      {
       "output_type": "stream",
       "stream": "stdout",
       "text": [
        " train-labels-idx1-ubyte.gz 28881 bytes.\n",
        "Extracting MNIST_data/train-labels-idx1-ubyte.gz\n",
        "Successfully downloaded"
       ]
      },
      {
       "output_type": "stream",
       "stream": "stdout",
       "text": [
        " t10k-images-idx3-ubyte.gz 1648877 bytes.\n",
        "Extracting MNIST_data/t10k-images-idx3-ubyte.gz\n",
        "Successfully downloaded"
       ]
      },
      {
       "output_type": "stream",
       "stream": "stdout",
       "text": [
        " t10k-labels-idx1-ubyte.gz 4542 bytes.\n",
        "Extracting MNIST_data/t10k-labels-idx1-ubyte.gz\n"
       ]
      }
     ],
     "prompt_number": 39
    },
    {
     "cell_type": "code",
     "collapsed": false,
     "input": [
      "mnist.train.labels\n"
     ],
     "language": "python",
     "metadata": {},
     "outputs": [
      {
       "metadata": {},
       "output_type": "pyout",
       "prompt_number": 40,
       "text": [
        "array([[ 0.,  0.,  0., ...,  1.,  0.,  0.],\n",
        "       [ 0.,  0.,  0., ...,  0.,  0.,  0.],\n",
        "       [ 0.,  0.,  0., ...,  0.,  0.,  0.],\n",
        "       ..., \n",
        "       [ 0.,  0.,  0., ...,  0.,  0.,  0.],\n",
        "       [ 0.,  0.,  0., ...,  0.,  0.,  0.],\n",
        "       [ 0.,  0.,  0., ...,  0.,  1.,  0.]])"
       ]
      }
     ],
     "prompt_number": 40
    },
    {
     "cell_type": "code",
     "collapsed": false,
     "input": [
      "mnist.train.images"
     ],
     "language": "python",
     "metadata": {},
     "outputs": [
      {
       "metadata": {},
       "output_type": "pyout",
       "prompt_number": 42,
       "text": [
        "array([[ 0.,  0.,  0., ...,  0.,  0.,  0.],\n",
        "       [ 0.,  0.,  0., ...,  0.,  0.,  0.],\n",
        "       [ 0.,  0.,  0., ...,  0.,  0.,  0.],\n",
        "       ..., \n",
        "       [ 0.,  0.,  0., ...,  0.,  0.,  0.],\n",
        "       [ 0.,  0.,  0., ...,  0.,  0.,  0.],\n",
        "       [ 0.,  0.,  0., ...,  0.,  0.,  0.]], dtype=float32)"
       ]
      }
     ],
     "prompt_number": 42
    },
    {
     "cell_type": "code",
     "collapsed": false,
     "input": [
      "import tensorflow as tf"
     ],
     "language": "python",
     "metadata": {},
     "outputs": [],
     "prompt_number": 43
    },
    {
     "cell_type": "code",
     "collapsed": false,
     "input": [
      "tf.convert_to_tensor(mnist.train.images).get_shape()"
     ],
     "language": "python",
     "metadata": {},
     "outputs": [
      {
       "metadata": {},
       "output_type": "pyout",
       "prompt_number": 44,
       "text": [
        "TensorShape([Dimension(55000), Dimension(784)])"
       ]
      }
     ],
     "prompt_number": 44
    },
    {
     "cell_type": "code",
     "collapsed": false,
     "input": [
      "W = tf.Variable(tf.zeros([784, 10]))\n",
      "b = tf.Variable(tf.zeros([10]))"
     ],
     "language": "python",
     "metadata": {},
     "outputs": [],
     "prompt_number": 45
    },
    {
     "cell_type": "code",
     "collapsed": false,
     "input": [
      "x = tf.placeholder(\"float\", [None, 784])\n",
      "y = tf.nn.softmax(tf.matmul(x, W) + b)"
     ],
     "language": "python",
     "metadata": {},
     "outputs": [],
     "prompt_number": 47
    },
    {
     "cell_type": "code",
     "collapsed": false,
     "input": [
      "y_ = tf.placeholder(\"float\", [None,10])"
     ],
     "language": "python",
     "metadata": {},
     "outputs": [],
     "prompt_number": 48
    },
    {
     "cell_type": "code",
     "collapsed": false,
     "input": [
      "cross_entropy = -tf.reduce_sum(y_*tf.log(y))"
     ],
     "language": "python",
     "metadata": {},
     "outputs": [],
     "prompt_number": 49
    },
    {
     "cell_type": "code",
     "collapsed": false,
     "input": [
      "train_step = tf.train.GradientDescentOptimizer(0.01).minimize(cross_entropy)"
     ],
     "language": "python",
     "metadata": {},
     "outputs": [],
     "prompt_number": 50
    },
    {
     "cell_type": "code",
     "collapsed": false,
     "input": [
      "sess = tf.Session()"
     ],
     "language": "python",
     "metadata": {},
     "outputs": [],
     "prompt_number": 51
    },
    {
     "cell_type": "code",
     "collapsed": false,
     "input": [
      "sess.run(tf.initialize_all_variables())"
     ],
     "language": "python",
     "metadata": {},
     "outputs": [],
     "prompt_number": 52
    },
    {
     "cell_type": "code",
     "collapsed": false,
     "input": [
      "for i in range(1000):\n",
      "    batch_xs, batch_ys = mnist.train.next_batch(100)\n",
      "    sess.run(train_step, feed_dict={x: batch_xs, y_: batch_ys})"
     ],
     "language": "python",
     "metadata": {},
     "outputs": [],
     "prompt_number": 53
    },
    {
     "cell_type": "markdown",
     "metadata": {},
     "source": [
      "# \ubaa8\ub378 \ud3c9\uac00"
     ]
    },
    {
     "cell_type": "code",
     "collapsed": false,
     "input": [
      "correct_prediction = tf.equal(tf.argmax(y, 1), tf.argmax(y_, 1))"
     ],
     "language": "python",
     "metadata": {},
     "outputs": [],
     "prompt_number": 56
    },
    {
     "cell_type": "code",
     "collapsed": false,
     "input": [
      "accuracy = tf.reduce_mean(tf.cast(correct_prediction, \"float\"))"
     ],
     "language": "python",
     "metadata": {},
     "outputs": [],
     "prompt_number": 57
    },
    {
     "cell_type": "code",
     "collapsed": false,
     "input": [
      "print sess.run(accuracy, feed_dict={x: mnist.test.images,\n",
      "                                    y_: mnist.test.labels})"
     ],
     "language": "python",
     "metadata": {},
     "outputs": [
      {
       "output_type": "stream",
       "stream": "stdout",
       "text": [
        "0.9142\n"
       ]
      }
     ],
     "prompt_number": 58
    },
    {
     "cell_type": "markdown",
     "metadata": {},
     "source": [
      "# 5\uc7a5 \ub2e4\uc911 \uacc4\uce35 \uc2e0\uacbd\ub9dd"
     ]
    },
    {
     "cell_type": "code",
     "collapsed": false,
     "input": [
      "from tensorflow.examples.tutorials.mnist import input_data\n",
      "mnist = input_data.read_data_sets(\"MNIST_data/\", one_hot=True)"
     ],
     "language": "python",
     "metadata": {},
     "outputs": [
      {
       "output_type": "stream",
       "stream": "stdout",
       "text": [
        "Extracting MNIST_data/train-images-idx3-ubyte.gz\n",
        "Extracting"
       ]
      },
      {
       "output_type": "stream",
       "stream": "stdout",
       "text": [
        " MNIST_data/train-labels-idx1-ubyte.gz\n",
        "Extracting MNIST_data/t10k-images-idx3-ubyte.gz\n",
        "Extracting MNIST_data/t10k-labels-idx1-ubyte.gz\n"
       ]
      }
     ],
     "prompt_number": 59
    },
    {
     "cell_type": "code",
     "collapsed": false,
     "input": [
      "import tensorflow as tf\n",
      "\n",
      "x = tf.placeholder(\"float\", shape=[None, 784])\n",
      "y_ = tf.placeholder(\"float\", shape=[None, 10])"
     ],
     "language": "python",
     "metadata": {},
     "outputs": [],
     "prompt_number": 60
    },
    {
     "cell_type": "code",
     "collapsed": false,
     "input": [
      "x_image = tf.reshape(x, [-1,28,28,1])"
     ],
     "language": "python",
     "metadata": {},
     "outputs": [],
     "prompt_number": 61
    },
    {
     "cell_type": "code",
     "collapsed": false,
     "input": [
      "# input image: 28x28\n",
      "# 5x5 filter\n",
      "# hidden layer: 24x24\n",
      "# stride, padding\n",
      "# \ub9e4\uac1c\ubcc0\uc218 5x5x24x24(14000)\n",
      "# Kernel 28x28 ==> 24x24x32 ==> 12x12x32\n",
      "# pulling 2x2"
     ],
     "language": "python",
     "metadata": {},
     "outputs": [],
     "prompt_number": 62
    },
    {
     "cell_type": "code",
     "collapsed": false,
     "input": [
      "def weight_variable(shape):\n",
      "    initial = tf.truncated_normal(shape, stddev=0.1)\n",
      "    return tf.Variable(initial)\n",
      "\n",
      "def bias_variable(shape):\n",
      "    initial = tf.constant(0.1, shape=shape)\n",
      "    return tf.Variable(initial)"
     ],
     "language": "python",
     "metadata": {},
     "outputs": [],
     "prompt_number": 63
    },
    {
     "cell_type": "code",
     "collapsed": false,
     "input": [
      "def conv2d(x, W):\n",
      "    return tf.nn.conv2d(x, W, strides=[1,1,1,1], padding='SAME')\n",
      "\n",
      "def max_pool_2x2(x):\n",
      "    return tf.nn.max_pool(x, ksize=[1,2,2,1], strides=[1,2,2,1],\n",
      "                          padding = 'SAME')"
     ],
     "language": "python",
     "metadata": {},
     "outputs": [],
     "prompt_number": 64
    },
    {
     "cell_type": "code",
     "collapsed": false,
     "input": [
      "W_conv1 = weight_variable([5,5,1,32])\n",
      "b_conv1 = bias_variable([32])"
     ],
     "language": "python",
     "metadata": {},
     "outputs": [],
     "prompt_number": 65
    },
    {
     "cell_type": "code",
     "collapsed": false,
     "input": [
      "h_conv1 = tf.nn.relu(conv2d(x_image, W_conv1) + b_conv1)\n",
      "h_pool1 = max_pool_2x2(h_conv1)"
     ],
     "language": "python",
     "metadata": {},
     "outputs": [],
     "prompt_number": 66
    },
    {
     "cell_type": "code",
     "collapsed": false,
     "input": [
      "W_conv2 = weight_variable([5,5,32,64])\n",
      "b_conv2 = bias_variable([64])\n",
      "\n",
      "h_conv2 = tf.nn.relu(conv2d(h_pool1, W_conv2) + b_conv2)\n",
      "h_pool2 = max_pool_2x2(h_conv2)"
     ],
     "language": "python",
     "metadata": {},
     "outputs": [],
     "prompt_number": 69
    },
    {
     "cell_type": "code",
     "collapsed": false,
     "input": [
      "W_fc1 = weight_variable([7*7*64, 1024])\n",
      "b_fc1 = bias_variable([1024])"
     ],
     "language": "python",
     "metadata": {},
     "outputs": [],
     "prompt_number": 70
    },
    {
     "cell_type": "code",
     "collapsed": false,
     "input": [
      "h_pool2_flat = tf.reshape(h_pool2, [-1, 7*7*64])\n",
      "\n",
      "h_fc1 = tf.nn.relu(tf.matmul(h_pool2_flat, W_fc1) + b_fc1)"
     ],
     "language": "python",
     "metadata": {},
     "outputs": [],
     "prompt_number": 71
    },
    {
     "cell_type": "code",
     "collapsed": false,
     "input": [
      "keep_prob = tf.placeholder(\"float\")\n",
      "h_fc1_drop = tf.nn.dropout(h_fc1, keep_prob)"
     ],
     "language": "python",
     "metadata": {},
     "outputs": [],
     "prompt_number": 72
    },
    {
     "cell_type": "code",
     "collapsed": false,
     "input": [
      "W_fc2 = weight_variable([1024, 10])\n",
      "b_fc2 = bias_variable([10])\n",
      "\n",
      "y_conv = tf.nn.softmax(tf.matmul(h_fc1_drop, W_fc2) + b_fc2)"
     ],
     "language": "python",
     "metadata": {},
     "outputs": [],
     "prompt_number": 74
    },
    {
     "cell_type": "code",
     "collapsed": false,
     "input": [
      "cross_entropy = -tf.reduce_sum(y_*tf.log(y_conv))\n",
      "train_step = tf.train.AdamOptimizer(1e-4).minimize(cross_entropy)\n",
      "correct_prediction = tf.equal(tf.argmax(y_conv,1), tf.argmax(y_,1))\n",
      "accuracy = tf.reduce_mean(tf.cast(correct_prediction, \"float\"))\n",
      "\n",
      "sess = tf.Session()\n",
      "\n",
      "sess.run(tf.initialize_all_variables())\n",
      "for i in range(1000):\n",
      "    batch = mnist.train.next_batch(100)\n",
      "    if i%100 == 0:\n",
      "        train_accuraty = sess.run(accuracy,\n",
      "                                  feed_dict={x:batch[0], y_: batch[1], keep_prob: 1.0})\n",
      "        print (\"step %d, training accuracy %g\"%(i, train_accuraty))\n",
      "    sess.run(train_step,\n",
      "             feed_dict={x: batch[0], y_: batch[1], keep_prob: 0.5})\n",
      "    \n",
      "print(\"test accuracy %g\"% sess.run(accuracy,\n",
      "                                   feed_dict={x: mnist.test.images, y_: mnist.test.labels, keep_prob: 1.0}))"
     ],
     "language": "python",
     "metadata": {},
     "outputs": [
      {
       "output_type": "stream",
       "stream": "stdout",
       "text": [
        "step 0, training accuracy 0.05\n",
        "step 100, training accuracy 0.87"
       ]
      },
      {
       "output_type": "stream",
       "stream": "stdout",
       "text": [
        "\n",
        "step 200, training accuracy 0.93"
       ]
      },
      {
       "output_type": "stream",
       "stream": "stdout",
       "text": [
        "\n",
        "step 300, training accuracy 0.96"
       ]
      },
      {
       "output_type": "stream",
       "stream": "stdout",
       "text": [
        "\n",
        "step 400, training accuracy 0.88"
       ]
      },
      {
       "output_type": "stream",
       "stream": "stdout",
       "text": [
        "\n",
        "step 500, training accuracy 0.97"
       ]
      },
      {
       "output_type": "stream",
       "stream": "stdout",
       "text": [
        "\n",
        "step 600, training accuracy 0.96"
       ]
      },
      {
       "output_type": "stream",
       "stream": "stdout",
       "text": [
        "\n",
        "step 700, training accuracy 0.95"
       ]
      },
      {
       "output_type": "stream",
       "stream": "stdout",
       "text": [
        "\n",
        "step 800, training accuracy 0.93"
       ]
      },
      {
       "output_type": "stream",
       "stream": "stdout",
       "text": [
        "\n",
        "step 900, training accuracy 0.94"
       ]
      },
      {
       "output_type": "stream",
       "stream": "stdout",
       "text": [
        "\n",
        "test accuracy 0.9692"
       ]
      },
      {
       "output_type": "stream",
       "stream": "stdout",
       "text": [
        "\n"
       ]
      }
     ],
     "prompt_number": 79
    },
    {
     "cell_type": "markdown",
     "metadata": {},
     "source": [
      "# 6\uc7a5 \ubcd1\ub82c\ucc98\ub9ac"
     ]
    },
    {
     "cell_type": "code",
     "collapsed": false,
     "input": [
      "# Tensorflow \uc5d0\uc11c \uc5b4\ub5a4 CPU, GPU\ub97c \uc0ac\uc6a9\ud558\ub294\uc9c0 \uc54c\uace0 \uc2f6\ub2e4\uba74 \uc544\ub798 \ucf54\ub4dc \uc2e4\ud589\n",
      "\n",
      "import tensorflow as tf\n",
      "\n",
      "\n",
      "a = tf.constant ([1.0, 2.0, 3.0, 4.0, 5.0, 6.0], shape=[2,3], name = 'a')\n",
      "b = tf.constant ([1.0, 2.0, 3.0, 4.0, 5.0, 6.0], shape=[3,2], name = 'b')\n",
      "c = tf.matmul(a,b)\n",
      "\n",
      "sess = tf.Session(config=tf.ConfigProto(log_device_placement=True))\n",
      "print sess.run(c)"
     ],
     "language": "python",
     "metadata": {},
     "outputs": [
      {
       "output_type": "stream",
       "stream": "stdout",
       "text": [
        "[[ 22.  28.]\n",
        " [ 49.  64.]]\n"
       ]
      }
     ],
     "prompt_number": 80
    },
    {
     "cell_type": "code",
     "collapsed": false,
     "input": [
      "import tensorflow as tf\n",
      "\n",
      "with tf.device(' /cpu:0'):\n",
      "    a = tf.constant ([1.0, 2.0, 3.0, 4.0, 5.0, 6.0], shape=[2,3], name = 'a')\n",
      "    b = tf.constant ([1.0, 2.0, 3.0, 4.0, 5.0, 6.0], shape=[3,2], name = 'b')\n",
      "    c = tf.matmul(a,b)\n",
      "\n",
      "sess = tf.Session(config=tf.ConfigProto(log_device_placement=True))\n",
      "print sess.run(c)"
     ],
     "language": "python",
     "metadata": {},
     "outputs": [
      {
       "ename": "ValueError",
       "evalue": "Unknown attribute: ' ' in ' /cpu:0'",
       "output_type": "pyerr",
       "traceback": [
        "\u001b[0;31m---------------------------------------------------------------------------\u001b[0m\n\u001b[0;31mValueError\u001b[0m                                Traceback (most recent call last)",
        "\u001b[0;32m<ipython-input-81-121a929bc72b>\u001b[0m in \u001b[0;36m<module>\u001b[0;34m()\u001b[0m\n\u001b[1;32m      1\u001b[0m \u001b[0;32mimport\u001b[0m \u001b[0mtensorflow\u001b[0m \u001b[0;32mas\u001b[0m \u001b[0mtf\u001b[0m\u001b[0;34m\u001b[0m\u001b[0m\n\u001b[1;32m      2\u001b[0m \u001b[0;34m\u001b[0m\u001b[0m\n\u001b[0;32m----> 3\u001b[0;31m \u001b[0;32mwith\u001b[0m \u001b[0mtf\u001b[0m\u001b[0;34m.\u001b[0m\u001b[0mdevice\u001b[0m\u001b[0;34m(\u001b[0m\u001b[0;34m' /cpu:0'\u001b[0m\u001b[0;34m)\u001b[0m\u001b[0;34m:\u001b[0m\u001b[0;34m\u001b[0m\u001b[0m\n\u001b[0m\u001b[1;32m      4\u001b[0m     \u001b[0ma\u001b[0m \u001b[0;34m=\u001b[0m \u001b[0mtf\u001b[0m\u001b[0;34m.\u001b[0m\u001b[0mconstant\u001b[0m \u001b[0;34m(\u001b[0m\u001b[0;34m[\u001b[0m\u001b[0;36m1.0\u001b[0m\u001b[0;34m,\u001b[0m \u001b[0;36m2.0\u001b[0m\u001b[0;34m,\u001b[0m \u001b[0;36m3.0\u001b[0m\u001b[0;34m,\u001b[0m \u001b[0;36m4.0\u001b[0m\u001b[0;34m,\u001b[0m \u001b[0;36m5.0\u001b[0m\u001b[0;34m,\u001b[0m \u001b[0;36m6.0\u001b[0m\u001b[0;34m]\u001b[0m\u001b[0;34m,\u001b[0m \u001b[0mshape\u001b[0m\u001b[0;34m=\u001b[0m\u001b[0;34m[\u001b[0m\u001b[0;36m2\u001b[0m\u001b[0;34m,\u001b[0m\u001b[0;36m3\u001b[0m\u001b[0;34m]\u001b[0m\u001b[0;34m,\u001b[0m \u001b[0mname\u001b[0m \u001b[0;34m=\u001b[0m \u001b[0;34m'a'\u001b[0m\u001b[0;34m)\u001b[0m\u001b[0;34m\u001b[0m\u001b[0m\n\u001b[1;32m      5\u001b[0m     \u001b[0mb\u001b[0m \u001b[0;34m=\u001b[0m \u001b[0mtf\u001b[0m\u001b[0;34m.\u001b[0m\u001b[0mconstant\u001b[0m \u001b[0;34m(\u001b[0m\u001b[0;34m[\u001b[0m\u001b[0;36m1.0\u001b[0m\u001b[0;34m,\u001b[0m \u001b[0;36m2.0\u001b[0m\u001b[0;34m,\u001b[0m \u001b[0;36m3.0\u001b[0m\u001b[0;34m,\u001b[0m \u001b[0;36m4.0\u001b[0m\u001b[0;34m,\u001b[0m \u001b[0;36m5.0\u001b[0m\u001b[0;34m,\u001b[0m \u001b[0;36m6.0\u001b[0m\u001b[0;34m]\u001b[0m\u001b[0;34m,\u001b[0m \u001b[0mshape\u001b[0m\u001b[0;34m=\u001b[0m\u001b[0;34m[\u001b[0m\u001b[0;36m3\u001b[0m\u001b[0;34m,\u001b[0m\u001b[0;36m2\u001b[0m\u001b[0;34m]\u001b[0m\u001b[0;34m,\u001b[0m \u001b[0mname\u001b[0m \u001b[0;34m=\u001b[0m \u001b[0;34m'b'\u001b[0m\u001b[0;34m)\u001b[0m\u001b[0;34m\u001b[0m\u001b[0m\n",
        "\u001b[0;32m/usr/lib/python2.7/contextlib.pyc\u001b[0m in \u001b[0;36m__enter__\u001b[0;34m(self)\u001b[0m\n\u001b[1;32m     15\u001b[0m     \u001b[0;32mdef\u001b[0m \u001b[0m__enter__\u001b[0m\u001b[0;34m(\u001b[0m\u001b[0mself\u001b[0m\u001b[0;34m)\u001b[0m\u001b[0;34m:\u001b[0m\u001b[0;34m\u001b[0m\u001b[0m\n\u001b[1;32m     16\u001b[0m         \u001b[0;32mtry\u001b[0m\u001b[0;34m:\u001b[0m\u001b[0;34m\u001b[0m\u001b[0m\n\u001b[0;32m---> 17\u001b[0;31m             \u001b[0;32mreturn\u001b[0m \u001b[0mself\u001b[0m\u001b[0;34m.\u001b[0m\u001b[0mgen\u001b[0m\u001b[0;34m.\u001b[0m\u001b[0mnext\u001b[0m\u001b[0;34m(\u001b[0m\u001b[0;34m)\u001b[0m\u001b[0;34m\u001b[0m\u001b[0m\n\u001b[0m\u001b[1;32m     18\u001b[0m         \u001b[0;32mexcept\u001b[0m \u001b[0mStopIteration\u001b[0m\u001b[0;34m:\u001b[0m\u001b[0;34m\u001b[0m\u001b[0m\n\u001b[1;32m     19\u001b[0m             \u001b[0;32mraise\u001b[0m \u001b[0mRuntimeError\u001b[0m\u001b[0;34m(\u001b[0m\u001b[0;34m\"generator didn't yield\"\u001b[0m\u001b[0;34m)\u001b[0m\u001b[0;34m\u001b[0m\u001b[0m\n",
        "\u001b[0;32m/usr/local/lib/python2.7/dist-packages/tensorflow/python/framework/ops.pyc\u001b[0m in \u001b[0;36mdevice\u001b[0;34m(self, device_name_or_function)\u001b[0m\n\u001b[1;32m   2989\u001b[0m     if (device_name_or_function is not None\n\u001b[1;32m   2990\u001b[0m         and not callable(device_name_or_function)):\n\u001b[0;32m-> 2991\u001b[0;31m       \u001b[0mdevice_function\u001b[0m \u001b[0;34m=\u001b[0m \u001b[0mpydev\u001b[0m\u001b[0;34m.\u001b[0m\u001b[0mmerge_device\u001b[0m\u001b[0;34m(\u001b[0m\u001b[0mdevice_name_or_function\u001b[0m\u001b[0;34m)\u001b[0m\u001b[0;34m\u001b[0m\u001b[0m\n\u001b[0m\u001b[1;32m   2992\u001b[0m     \u001b[0;32melse\u001b[0m\u001b[0;34m:\u001b[0m\u001b[0;34m\u001b[0m\u001b[0m\n\u001b[1;32m   2993\u001b[0m       \u001b[0mdevice_function\u001b[0m \u001b[0;34m=\u001b[0m \u001b[0mdevice_name_or_function\u001b[0m\u001b[0;34m\u001b[0m\u001b[0m\n",
        "\u001b[0;32m/usr/local/lib/python2.7/dist-packages/tensorflow/python/framework/device.pyc\u001b[0m in \u001b[0;36mmerge_device\u001b[0;34m(spec)\u001b[0m\n\u001b[1;32m    280\u001b[0m   \"\"\"\n\u001b[1;32m    281\u001b[0m   \u001b[0;32mif\u001b[0m \u001b[0;32mnot\u001b[0m \u001b[0misinstance\u001b[0m\u001b[0;34m(\u001b[0m\u001b[0mspec\u001b[0m\u001b[0;34m,\u001b[0m \u001b[0mDeviceSpec\u001b[0m\u001b[0;34m)\u001b[0m\u001b[0;34m:\u001b[0m\u001b[0;34m\u001b[0m\u001b[0m\n\u001b[0;32m--> 282\u001b[0;31m     \u001b[0mspec\u001b[0m \u001b[0;34m=\u001b[0m \u001b[0mDeviceSpec\u001b[0m\u001b[0;34m.\u001b[0m\u001b[0mfrom_string\u001b[0m\u001b[0;34m(\u001b[0m\u001b[0mspec\u001b[0m \u001b[0;32mor\u001b[0m \u001b[0;34m\"\"\u001b[0m\u001b[0;34m)\u001b[0m\u001b[0;34m\u001b[0m\u001b[0m\n\u001b[0m\u001b[1;32m    283\u001b[0m   \u001b[0;32mdef\u001b[0m \u001b[0m_device_function\u001b[0m\u001b[0;34m(\u001b[0m\u001b[0mnode_def\u001b[0m\u001b[0;34m)\u001b[0m\u001b[0;34m:\u001b[0m\u001b[0;34m\u001b[0m\u001b[0m\n\u001b[1;32m    284\u001b[0m     \u001b[0mcurrent_device\u001b[0m \u001b[0;34m=\u001b[0m \u001b[0mDeviceSpec\u001b[0m\u001b[0;34m.\u001b[0m\u001b[0mfrom_string\u001b[0m\u001b[0;34m(\u001b[0m\u001b[0mnode_def\u001b[0m\u001b[0;34m.\u001b[0m\u001b[0mdevice\u001b[0m \u001b[0;32mor\u001b[0m \u001b[0;34m\"\"\u001b[0m\u001b[0;34m)\u001b[0m\u001b[0;34m\u001b[0m\u001b[0m\n",
        "\u001b[0;32m/usr/local/lib/python2.7/dist-packages/tensorflow/python/framework/device.pyc\u001b[0m in \u001b[0;36mfrom_string\u001b[0;34m(spec)\u001b[0m\n\u001b[1;32m    226\u001b[0m       \u001b[0mA\u001b[0m \u001b[0mDeviceSpec\u001b[0m\u001b[0;34m.\u001b[0m\u001b[0;34m\u001b[0m\u001b[0m\n\u001b[1;32m    227\u001b[0m     \"\"\"\n\u001b[0;32m--> 228\u001b[0;31m     \u001b[0;32mreturn\u001b[0m \u001b[0mDeviceSpec\u001b[0m\u001b[0;34m(\u001b[0m\u001b[0;34m)\u001b[0m\u001b[0;34m.\u001b[0m\u001b[0mparse_from_string\u001b[0m\u001b[0;34m(\u001b[0m\u001b[0mspec\u001b[0m\u001b[0;34m)\u001b[0m\u001b[0;34m\u001b[0m\u001b[0m\n\u001b[0m\u001b[1;32m    229\u001b[0m \u001b[0;34m\u001b[0m\u001b[0m\n\u001b[1;32m    230\u001b[0m \u001b[0;34m\u001b[0m\u001b[0m\n",
        "\u001b[0;32m/usr/local/lib/python2.7/dist-packages/tensorflow/python/framework/device.pyc\u001b[0m in \u001b[0;36mparse_from_string\u001b[0;34m(self, spec)\u001b[0m\n\u001b[1;32m    169\u001b[0m             \u001b[0mself\u001b[0m\u001b[0;34m.\u001b[0m\u001b[0mdevice_index\u001b[0m \u001b[0;34m=\u001b[0m \u001b[0mint\u001b[0m\u001b[0;34m(\u001b[0m\u001b[0my\u001b[0m\u001b[0;34m[\u001b[0m\u001b[0;36m2\u001b[0m\u001b[0;34m]\u001b[0m\u001b[0;34m)\u001b[0m\u001b[0;34m\u001b[0m\u001b[0m\n\u001b[1;32m    170\u001b[0m         \u001b[0;32melif\u001b[0m \u001b[0mly\u001b[0m \u001b[0;32mand\u001b[0m \u001b[0my\u001b[0m\u001b[0;34m[\u001b[0m\u001b[0;36m0\u001b[0m\u001b[0;34m]\u001b[0m \u001b[0;34m!=\u001b[0m \u001b[0;34m\"\"\u001b[0m\u001b[0;34m:\u001b[0m  \u001b[0;31m# pylint: disable=g-explicit-bool-comparison\u001b[0m\u001b[0;34m\u001b[0m\u001b[0m\n\u001b[0;32m--> 171\u001b[0;31m           \u001b[0;32mraise\u001b[0m \u001b[0mValueError\u001b[0m\u001b[0;34m(\u001b[0m\u001b[0;34m\"Unknown attribute: '%s' in '%s'\"\u001b[0m \u001b[0;34m%\u001b[0m \u001b[0;34m(\u001b[0m\u001b[0my\u001b[0m\u001b[0;34m[\u001b[0m\u001b[0;36m0\u001b[0m\u001b[0;34m]\u001b[0m\u001b[0;34m,\u001b[0m \u001b[0mspec\u001b[0m\u001b[0;34m)\u001b[0m\u001b[0;34m)\u001b[0m\u001b[0;34m\u001b[0m\u001b[0m\n\u001b[0m\u001b[1;32m    172\u001b[0m \u001b[0;34m\u001b[0m\u001b[0m\n\u001b[1;32m    173\u001b[0m     \u001b[0;32mreturn\u001b[0m \u001b[0mself\u001b[0m\u001b[0;34m\u001b[0m\u001b[0m\n",
        "\u001b[0;31mValueError\u001b[0m: Unknown attribute: ' ' in ' /cpu:0'"
       ]
      }
     ],
     "prompt_number": 81
    },
    {
     "cell_type": "code",
     "collapsed": false,
     "input": [
      "import tensorflow as tf\n",
      "\n",
      "c = []\n",
      "\n",
      "for d in ['gpu:2', '/gpu:3']:\n",
      "\n",
      "    with tf.device(' /cpu:0'):\n",
      "        a = tf.constant ([1.0, 2.0, 3.0, 4.0, 5.0, 6.0], shape=[2,3], name = 'a')\n",
      "        b = tf.constant ([1.0, 2.0, 3.0, 4.0, 5.0, 6.0], shape=[3,2], name = 'b')\n",
      "        c.append(tf.matmul(a,b))\n",
      "    with tf.device('/cpu:0'):\n",
      "        sum = tf.add_n(c)\n",
      "\n",
      "sess = tf.Session(config=tf.ConfigProto(log_device_placement=True))\n",
      "print sess.run(c)"
     ],
     "language": "python",
     "metadata": {},
     "outputs": [
      {
       "ename": "ValueError",
       "evalue": "Unknown attribute: ' ' in ' /cpu:0'",
       "output_type": "pyerr",
       "traceback": [
        "\u001b[0;31m---------------------------------------------------------------------------\u001b[0m\n\u001b[0;31mValueError\u001b[0m                                Traceback (most recent call last)",
        "\u001b[0;32m<ipython-input-83-6af76d067cf6>\u001b[0m in \u001b[0;36m<module>\u001b[0;34m()\u001b[0m\n\u001b[1;32m      5\u001b[0m \u001b[0;32mfor\u001b[0m \u001b[0md\u001b[0m \u001b[0;32min\u001b[0m \u001b[0;34m[\u001b[0m\u001b[0;34m'gpu:2'\u001b[0m\u001b[0;34m,\u001b[0m \u001b[0;34m'/gpu:3'\u001b[0m\u001b[0;34m]\u001b[0m\u001b[0;34m:\u001b[0m\u001b[0;34m\u001b[0m\u001b[0m\n\u001b[1;32m      6\u001b[0m \u001b[0;34m\u001b[0m\u001b[0m\n\u001b[0;32m----> 7\u001b[0;31m     \u001b[0;32mwith\u001b[0m \u001b[0mtf\u001b[0m\u001b[0;34m.\u001b[0m\u001b[0mdevice\u001b[0m\u001b[0;34m(\u001b[0m\u001b[0;34m' /cpu:0'\u001b[0m\u001b[0;34m)\u001b[0m\u001b[0;34m:\u001b[0m\u001b[0;34m\u001b[0m\u001b[0m\n\u001b[0m\u001b[1;32m      8\u001b[0m         \u001b[0ma\u001b[0m \u001b[0;34m=\u001b[0m \u001b[0mtf\u001b[0m\u001b[0;34m.\u001b[0m\u001b[0mconstant\u001b[0m \u001b[0;34m(\u001b[0m\u001b[0;34m[\u001b[0m\u001b[0;36m1.0\u001b[0m\u001b[0;34m,\u001b[0m \u001b[0;36m2.0\u001b[0m\u001b[0;34m,\u001b[0m \u001b[0;36m3.0\u001b[0m\u001b[0;34m,\u001b[0m \u001b[0;36m4.0\u001b[0m\u001b[0;34m,\u001b[0m \u001b[0;36m5.0\u001b[0m\u001b[0;34m,\u001b[0m \u001b[0;36m6.0\u001b[0m\u001b[0;34m]\u001b[0m\u001b[0;34m,\u001b[0m \u001b[0mshape\u001b[0m\u001b[0;34m=\u001b[0m\u001b[0;34m[\u001b[0m\u001b[0;36m2\u001b[0m\u001b[0;34m,\u001b[0m\u001b[0;36m3\u001b[0m\u001b[0;34m]\u001b[0m\u001b[0;34m,\u001b[0m \u001b[0mname\u001b[0m \u001b[0;34m=\u001b[0m \u001b[0;34m'a'\u001b[0m\u001b[0;34m)\u001b[0m\u001b[0;34m\u001b[0m\u001b[0m\n\u001b[1;32m      9\u001b[0m         \u001b[0mb\u001b[0m \u001b[0;34m=\u001b[0m \u001b[0mtf\u001b[0m\u001b[0;34m.\u001b[0m\u001b[0mconstant\u001b[0m \u001b[0;34m(\u001b[0m\u001b[0;34m[\u001b[0m\u001b[0;36m1.0\u001b[0m\u001b[0;34m,\u001b[0m \u001b[0;36m2.0\u001b[0m\u001b[0;34m,\u001b[0m \u001b[0;36m3.0\u001b[0m\u001b[0;34m,\u001b[0m \u001b[0;36m4.0\u001b[0m\u001b[0;34m,\u001b[0m \u001b[0;36m5.0\u001b[0m\u001b[0;34m,\u001b[0m \u001b[0;36m6.0\u001b[0m\u001b[0;34m]\u001b[0m\u001b[0;34m,\u001b[0m \u001b[0mshape\u001b[0m\u001b[0;34m=\u001b[0m\u001b[0;34m[\u001b[0m\u001b[0;36m3\u001b[0m\u001b[0;34m,\u001b[0m\u001b[0;36m2\u001b[0m\u001b[0;34m]\u001b[0m\u001b[0;34m,\u001b[0m \u001b[0mname\u001b[0m \u001b[0;34m=\u001b[0m \u001b[0;34m'b'\u001b[0m\u001b[0;34m)\u001b[0m\u001b[0;34m\u001b[0m\u001b[0m\n",
        "\u001b[0;32m/usr/lib/python2.7/contextlib.pyc\u001b[0m in \u001b[0;36m__enter__\u001b[0;34m(self)\u001b[0m\n\u001b[1;32m     15\u001b[0m     \u001b[0;32mdef\u001b[0m \u001b[0m__enter__\u001b[0m\u001b[0;34m(\u001b[0m\u001b[0mself\u001b[0m\u001b[0;34m)\u001b[0m\u001b[0;34m:\u001b[0m\u001b[0;34m\u001b[0m\u001b[0m\n\u001b[1;32m     16\u001b[0m         \u001b[0;32mtry\u001b[0m\u001b[0;34m:\u001b[0m\u001b[0;34m\u001b[0m\u001b[0m\n\u001b[0;32m---> 17\u001b[0;31m             \u001b[0;32mreturn\u001b[0m \u001b[0mself\u001b[0m\u001b[0;34m.\u001b[0m\u001b[0mgen\u001b[0m\u001b[0;34m.\u001b[0m\u001b[0mnext\u001b[0m\u001b[0;34m(\u001b[0m\u001b[0;34m)\u001b[0m\u001b[0;34m\u001b[0m\u001b[0m\n\u001b[0m\u001b[1;32m     18\u001b[0m         \u001b[0;32mexcept\u001b[0m \u001b[0mStopIteration\u001b[0m\u001b[0;34m:\u001b[0m\u001b[0;34m\u001b[0m\u001b[0m\n\u001b[1;32m     19\u001b[0m             \u001b[0;32mraise\u001b[0m \u001b[0mRuntimeError\u001b[0m\u001b[0;34m(\u001b[0m\u001b[0;34m\"generator didn't yield\"\u001b[0m\u001b[0;34m)\u001b[0m\u001b[0;34m\u001b[0m\u001b[0m\n",
        "\u001b[0;32m/usr/local/lib/python2.7/dist-packages/tensorflow/python/framework/ops.pyc\u001b[0m in \u001b[0;36mdevice\u001b[0;34m(self, device_name_or_function)\u001b[0m\n\u001b[1;32m   2989\u001b[0m     if (device_name_or_function is not None\n\u001b[1;32m   2990\u001b[0m         and not callable(device_name_or_function)):\n\u001b[0;32m-> 2991\u001b[0;31m       \u001b[0mdevice_function\u001b[0m \u001b[0;34m=\u001b[0m \u001b[0mpydev\u001b[0m\u001b[0;34m.\u001b[0m\u001b[0mmerge_device\u001b[0m\u001b[0;34m(\u001b[0m\u001b[0mdevice_name_or_function\u001b[0m\u001b[0;34m)\u001b[0m\u001b[0;34m\u001b[0m\u001b[0m\n\u001b[0m\u001b[1;32m   2992\u001b[0m     \u001b[0;32melse\u001b[0m\u001b[0;34m:\u001b[0m\u001b[0;34m\u001b[0m\u001b[0m\n\u001b[1;32m   2993\u001b[0m       \u001b[0mdevice_function\u001b[0m \u001b[0;34m=\u001b[0m \u001b[0mdevice_name_or_function\u001b[0m\u001b[0;34m\u001b[0m\u001b[0m\n",
        "\u001b[0;32m/usr/local/lib/python2.7/dist-packages/tensorflow/python/framework/device.pyc\u001b[0m in \u001b[0;36mmerge_device\u001b[0;34m(spec)\u001b[0m\n\u001b[1;32m    280\u001b[0m   \"\"\"\n\u001b[1;32m    281\u001b[0m   \u001b[0;32mif\u001b[0m \u001b[0;32mnot\u001b[0m \u001b[0misinstance\u001b[0m\u001b[0;34m(\u001b[0m\u001b[0mspec\u001b[0m\u001b[0;34m,\u001b[0m \u001b[0mDeviceSpec\u001b[0m\u001b[0;34m)\u001b[0m\u001b[0;34m:\u001b[0m\u001b[0;34m\u001b[0m\u001b[0m\n\u001b[0;32m--> 282\u001b[0;31m     \u001b[0mspec\u001b[0m \u001b[0;34m=\u001b[0m \u001b[0mDeviceSpec\u001b[0m\u001b[0;34m.\u001b[0m\u001b[0mfrom_string\u001b[0m\u001b[0;34m(\u001b[0m\u001b[0mspec\u001b[0m \u001b[0;32mor\u001b[0m \u001b[0;34m\"\"\u001b[0m\u001b[0;34m)\u001b[0m\u001b[0;34m\u001b[0m\u001b[0m\n\u001b[0m\u001b[1;32m    283\u001b[0m   \u001b[0;32mdef\u001b[0m \u001b[0m_device_function\u001b[0m\u001b[0;34m(\u001b[0m\u001b[0mnode_def\u001b[0m\u001b[0;34m)\u001b[0m\u001b[0;34m:\u001b[0m\u001b[0;34m\u001b[0m\u001b[0m\n\u001b[1;32m    284\u001b[0m     \u001b[0mcurrent_device\u001b[0m \u001b[0;34m=\u001b[0m \u001b[0mDeviceSpec\u001b[0m\u001b[0;34m.\u001b[0m\u001b[0mfrom_string\u001b[0m\u001b[0;34m(\u001b[0m\u001b[0mnode_def\u001b[0m\u001b[0;34m.\u001b[0m\u001b[0mdevice\u001b[0m \u001b[0;32mor\u001b[0m \u001b[0;34m\"\"\u001b[0m\u001b[0;34m)\u001b[0m\u001b[0;34m\u001b[0m\u001b[0m\n",
        "\u001b[0;32m/usr/local/lib/python2.7/dist-packages/tensorflow/python/framework/device.pyc\u001b[0m in \u001b[0;36mfrom_string\u001b[0;34m(spec)\u001b[0m\n\u001b[1;32m    226\u001b[0m       \u001b[0mA\u001b[0m \u001b[0mDeviceSpec\u001b[0m\u001b[0;34m.\u001b[0m\u001b[0;34m\u001b[0m\u001b[0m\n\u001b[1;32m    227\u001b[0m     \"\"\"\n\u001b[0;32m--> 228\u001b[0;31m     \u001b[0;32mreturn\u001b[0m \u001b[0mDeviceSpec\u001b[0m\u001b[0;34m(\u001b[0m\u001b[0;34m)\u001b[0m\u001b[0;34m.\u001b[0m\u001b[0mparse_from_string\u001b[0m\u001b[0;34m(\u001b[0m\u001b[0mspec\u001b[0m\u001b[0;34m)\u001b[0m\u001b[0;34m\u001b[0m\u001b[0m\n\u001b[0m\u001b[1;32m    229\u001b[0m \u001b[0;34m\u001b[0m\u001b[0m\n\u001b[1;32m    230\u001b[0m \u001b[0;34m\u001b[0m\u001b[0m\n",
        "\u001b[0;32m/usr/local/lib/python2.7/dist-packages/tensorflow/python/framework/device.pyc\u001b[0m in \u001b[0;36mparse_from_string\u001b[0;34m(self, spec)\u001b[0m\n\u001b[1;32m    169\u001b[0m             \u001b[0mself\u001b[0m\u001b[0;34m.\u001b[0m\u001b[0mdevice_index\u001b[0m \u001b[0;34m=\u001b[0m \u001b[0mint\u001b[0m\u001b[0;34m(\u001b[0m\u001b[0my\u001b[0m\u001b[0;34m[\u001b[0m\u001b[0;36m2\u001b[0m\u001b[0;34m]\u001b[0m\u001b[0;34m)\u001b[0m\u001b[0;34m\u001b[0m\u001b[0m\n\u001b[1;32m    170\u001b[0m         \u001b[0;32melif\u001b[0m \u001b[0mly\u001b[0m \u001b[0;32mand\u001b[0m \u001b[0my\u001b[0m\u001b[0;34m[\u001b[0m\u001b[0;36m0\u001b[0m\u001b[0;34m]\u001b[0m \u001b[0;34m!=\u001b[0m \u001b[0;34m\"\"\u001b[0m\u001b[0;34m:\u001b[0m  \u001b[0;31m# pylint: disable=g-explicit-bool-comparison\u001b[0m\u001b[0;34m\u001b[0m\u001b[0m\n\u001b[0;32m--> 171\u001b[0;31m           \u001b[0;32mraise\u001b[0m \u001b[0mValueError\u001b[0m\u001b[0;34m(\u001b[0m\u001b[0;34m\"Unknown attribute: '%s' in '%s'\"\u001b[0m \u001b[0;34m%\u001b[0m \u001b[0;34m(\u001b[0m\u001b[0my\u001b[0m\u001b[0;34m[\u001b[0m\u001b[0;36m0\u001b[0m\u001b[0;34m]\u001b[0m\u001b[0;34m,\u001b[0m \u001b[0mspec\u001b[0m\u001b[0;34m)\u001b[0m\u001b[0;34m)\u001b[0m\u001b[0;34m\u001b[0m\u001b[0m\n\u001b[0m\u001b[1;32m    172\u001b[0m \u001b[0;34m\u001b[0m\u001b[0m\n\u001b[1;32m    173\u001b[0m     \u001b[0;32mreturn\u001b[0m \u001b[0mself\u001b[0m\u001b[0;34m\u001b[0m\u001b[0m\n",
        "\u001b[0;31mValueError\u001b[0m: Unknown attribute: ' ' in ' /cpu:0'"
       ]
      }
     ],
     "prompt_number": 83
    },
    {
     "cell_type": "code",
     "collapsed": false,
     "input": [
      "# 6.3 GPU \ucf54\ub4dc \uc608\uc81c 141\ucabd \ucc38\uace0\ud560 \uac83"
     ],
     "language": "python",
     "metadata": {},
     "outputs": []
    }
   ],
   "metadata": {}
  }
 ]
}