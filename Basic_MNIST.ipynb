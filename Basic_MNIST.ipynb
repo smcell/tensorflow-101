{
 "metadata": {
  "name": ""
 },
 "nbformat": 3,
 "nbformat_minor": 0,
 "worksheets": [
  {
   "cells": [
    {
     "cell_type": "markdown",
     "metadata": {},
     "source": [
      "# Load Packages"
     ]
    },
    {
     "cell_type": "code",
     "collapsed": false,
     "input": [
      "import numpy as np\n",
      "import matplotlib.pyplot as plt\n",
      "import tensorflow as tf\n",
      "from tensorflow.examples.tutorials.mnist import input_data\n",
      "%matplotlib inline\n",
      "print (\"Packages Loaded\")"
     ],
     "language": "python",
     "metadata": {},
     "outputs": [
      {
       "output_type": "stream",
       "stream": "stdout",
       "text": [
        "Packages Loaded\n"
       ]
      }
     ],
     "prompt_number": 4
    },
    {
     "cell_type": "markdown",
     "metadata": {},
     "source": [
      "# Download and Extract Mnist Dataset"
     ]
    },
    {
     "cell_type": "code",
     "collapsed": false,
     "input": [
      "print (\"Download and Extract MNIST dataset\")\n",
      "mnist = input_data.read_data_sets('data/', one_hot=True)\n",
      "print\n",
      "print (\" type of 'mnist' is %s\" % (type(mnist)))\n",
      "print (\" number of train data is %d\" % (mnist.train.num_examples))\n",
      "print (\" number of test data is %d\" % (mnist.test.num_examples))"
     ],
     "language": "python",
     "metadata": {},
     "outputs": [
      {
       "output_type": "stream",
       "stream": "stdout",
       "text": [
        "Download and Extract MNIST dataset\n",
        "Extracting data/train-images-idx3-ubyte.gz\n",
        "Extracting"
       ]
      },
      {
       "output_type": "stream",
       "stream": "stdout",
       "text": [
        " data/train-labels-idx1-ubyte.gz\n",
        "Extracting data/t10k-images-idx3-ubyte.gz\n",
        "Extracting data/t10k-labels-idx1-ubyte.gz\n",
        "\n"
       ]
      },
      {
       "output_type": "stream",
       "stream": "stdout",
       "text": [
        " type of 'mnist' is <class 'tensorflow.contrib.learn.python.learn.datasets.base.Datasets'>\n",
        " number of train data is 55000\n",
        " number of test data is 10000\n"
       ]
      }
     ],
     "prompt_number": 6
    },
    {
     "cell_type": "markdown",
     "metadata": {},
     "source": [
      "# Type and Shape of MNIST Dataset"
     ]
    },
    {
     "cell_type": "code",
     "collapsed": false,
     "input": [
      "print (\"What does the data of MNIST look like?\")\n",
      "trainimg   = mnist.train.images\n",
      "trainlabel = mnist.train.labels\n",
      "testimg    = mnist.test.images\n",
      "testlabel  = mnist.test.labels\n",
      "print\n",
      "print (\" type of 'trainimg' is %s\"   % (type(trainimg)))\n",
      "print (\" type of 'trainlabel' is %s\" % (type(trainlabel)))\n",
      "print (\" type of 'testimg' is %s\"    % (type(testimg)))\n",
      "print (\" type of 'testlabel' is %s\"  % (type(testlabel)))\n",
      "\n",
      "print (\" shape of 'trainimg' is %s\"   % (trainimg.shape,))\n",
      "print (\" shape of 'trainlabel' is %s\" % (trainlabel.shape,))\n",
      "print (\" shape of 'testimg' is %s\"    % (testimg.shape,))\n",
      "print (\" shape of 'testlabel' is %s\"  % (testlabel.shape,))"
     ],
     "language": "python",
     "metadata": {},
     "outputs": [
      {
       "output_type": "stream",
       "stream": "stdout",
       "text": [
        "What does the data of MNIST look like?\n",
        "\n",
        " type of 'trainimg' is <type 'numpy.ndarray'>\n",
        " type of 'trainlabel' is <type 'numpy.ndarray'>\n",
        " type of 'testimg' is <type 'numpy.ndarray'>\n",
        " type of 'testlabel' is <type 'numpy.ndarray'>\n",
        " shape of 'trainimg' is (55000, 784)\n",
        " shape of 'trainlabel' is (55000, 10)\n",
        " shape of 'testimg' is (10000, 784)\n",
        " shape of 'testlabel' is (10000, 10)\n"
       ]
      }
     ],
     "prompt_number": 9
    },
    {
     "cell_type": "markdown",
     "metadata": {},
     "source": [
      "# Plot"
     ]
    },
    {
     "cell_type": "code",
     "collapsed": false,
     "input": [
      "print (\"How does the training data look likes?\")\n",
      "nsample = 3\n",
      "randidx = np.random.randint(trainimg.shape[0], size = nsample)\n",
      "\n",
      "for i in randidx:\n",
      "    curr_img    = np.reshape(trainimg[i, :], (28, 28))\n",
      "    curr_label  = np.argmax(trainlabel[i, :])\n",
      "    plt.matshow(curr_img, cmap=plt.get_cmap('gray'))\n",
      "    plt.title(\"\" + str(i) + \"th Training Data \"\n",
      "              + \"Label is \" + str(curr_label))\n",
      "    plt.show()\n",
      "    print (\"\" + str(i) + \"th Training Data \"\n",
      "           + \"Label is \" + str(curr_label))"
     ],
     "language": "python",
     "metadata": {},
     "outputs": [
      {
       "output_type": "stream",
       "stream": "stdout",
       "text": [
        "How does the training data look likes?\n"
       ]
      },
      {
       "metadata": {},
       "output_type": "display_data",
       "png": "[encoded data removed]",
       "text": [
        "<matplotlib.figure.Figure at 0x7fdc553a98d0>"
       ]
      },
      {
       "output_type": "stream",
       "stream": "stdout",
       "text": [
        "29314th Training Data Label is 7\n"
       ]
      },
      {
       "metadata": {},
       "output_type": "display_data",
       "png": "[encoded data removed]",
       "text": [
        "<matplotlib.figure.Figure at 0x7fdc55494710>"
       ]
      },
      {
       "output_type": "stream",
       "stream": "stdout",
       "text": [
        "19593th Training Data Label is 9\n"
       ]
      },
      {
       "metadata": {},
       "output_type": "display_data",
       "png": "[encoded data removed]",
       "text": [
        "<matplotlib.figure.Figure at 0x7fdc7b85b710>"
       ]
      },
      {
       "output_type": "stream",
       "stream": "stdout",
       "text": [
        "30392th Training Data Label is 4\n"
       ]
      }
     ],
     "prompt_number": 14
    },
    {
     "cell_type": "markdown",
     "metadata": {},
     "source": [
      "# Mini-Batch"
     ]
    },
    {
     "cell_type": "code",
     "collapsed": false,
     "input": [
      "batch_size = 100\n",
      "batch_xs, batch_ys = mnist.train.next_batch(batch_size)\n",
      "print (\"type of 'batch_xs' is %s\" % (type(batch_xs)))\n",
      "print (\"type of 'batch_ys' is %s\" % (type(batch_ys)))\n",
      "print (\"shape of 'batch_xs' is %s\" % (batch_xs.shape,))\n",
      "print (\"shape of 'batch_ys' is %s\" % (batch_ys.shape,))\n"
     ],
     "language": "python",
     "metadata": {},
     "outputs": [
      {
       "output_type": "stream",
       "stream": "stdout",
       "text": [
        "type of 'batch_xs' is <type 'numpy.ndarray'>\n",
        "type of 'batch_ys' is <type 'numpy.ndarray'>\n",
        "shape of 'batch_xs' is (100, 784)\n",
        "shape of 'batch_ys' is (100, 10)\n"
       ]
      }
     ],
     "prompt_number": 15
    },
    {
     "cell_type": "markdown",
     "metadata": {},
     "source": [
      "# Can we do similar mini-batch processing?"
     ]
    },
    {
     "cell_type": "code",
     "collapsed": false,
     "input": [
      "randidx     = np.random.randint(trainimg.shape[0], size = batch_size)\n",
      "batch_xs2   = trainimg[randidx, :]\n",
      "batch_ys2   = trainlabel[randidx, :]\n",
      "\n",
      "print (\"type fo 'batch_xs2' is %s\"   % (type(batch_xs2)))\n",
      "print (\"type fo 'batch_ys2' is %s\"   % (type(batch_ys2)))\n",
      "\n",
      "print (\"shape fo 'batch_xs2' is %s\"   % (batch_xs2.shape,))\n",
      "print (\"shape fo 'batch_ys2' is %s\"   % (batch_ys2.shape,))\n",
      "\n"
     ],
     "language": "python",
     "metadata": {},
     "outputs": [
      {
       "output_type": "stream",
       "stream": "stdout",
       "text": [
        "type fo 'batch_xs2' is <type 'numpy.ndarray'>\n",
        "type fo 'batch_ys2' is <type 'numpy.ndarray'>\n",
        "shape fo 'batch_xs2' is (100, 784)\n",
        "shape fo 'batch_ys2' is (100, 10)\n"
       ]
      }
     ],
     "prompt_number": 17
    },
    {
     "cell_type": "code",
     "collapsed": false,
     "input": [],
     "language": "python",
     "metadata": {},
     "outputs": []
    }
   ],
   "metadata": {}
  }
 ]
}